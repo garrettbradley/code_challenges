{
 "cells": [
  {
   "cell_type": "markdown",
   "metadata": {},
   "source": [
    "Split and then add both sides of an array together."
   ]
  },
  {
   "cell_type": "markdown",
   "metadata": {},
   "source": [
    "https://www.codewars.com/kata/split-and-then-add-both-sides-of-an-array-together/train/python"
   ]
  },
  {
   "cell_type": "markdown",
   "metadata": {},
   "source": [
    "ask\n",
    "You will receive an array as paramter that contains 1 or more integers and a number n.\n",
    "\n",
    "Here is a little visualization of the process:\n",
    "\n",
    "Step 1: Split the array in two:\n",
    "\n",
    "{1, 2, 5, 7, 2, 3, 5, 7, 8}\n",
    "      /            \\\n",
    "{1, 2, 5, 7}    {2, 3, 5, 7, 8}\n",
    "Step 2: Put the arrays on top of each other:\n",
    "\n",
    "   {1, 2, 5, 7}\n",
    "{2, 3, 5, 7, 8}\n",
    "Step 3: Add them together:\n",
    "\n",
    "{2, 4, 7, 12, 15}\n",
    "Repeat the above steps n times or until there is only one number left, and then return the array.\n",
    "\n",
    "Example\n",
    "Input: {4, 2, 5, 3, 2, 5, 7}, n=2\n",
    "\n",
    "\n",
    "Round 1\n",
    "-------\n",
    "step 1: {4, 2, 5}  {3, 2, 5, 7}\n",
    "\n",
    "step 2:    {4, 2, 5}\n",
    "        {3, 2, 5, 7}\n",
    "\n",
    "step 3: {3, 6, 7, 12}\n",
    "\n",
    "\n",
    "Round 2\n",
    "-------\n",
    "step 1: {3, 6}  {7, 12}\n",
    "\n",
    "step 2:  {3,  6}\n",
    "         {7, 12} \n",
    "\n",
    "step 3: {10, 18}\n",
    "\n",
    "\n",
    "Result: {10, 18}"
   ]
  },
  {
   "cell_type": "code",
   "execution_count": 2,
   "metadata": {},
   "outputs": [],
   "source": [
    "# Works here for all test cases but not on codewars\n",
    "\n",
    "def split_and_add(numbers, n):\n",
    "    import numpy as np\n",
    "    \n",
    "    if len(numbers) < 2:\n",
    "        return numbers\n",
    "    \n",
    "    elif n == 0: \n",
    "        return numbers\n",
    "    else:   \n",
    "        count = 0\n",
    "        for i in range(n):\n",
    "            if len(numbers) == 1:\n",
    "                return numbers\n",
    "            \n",
    "            else: \n",
    "                arr_1 = np.array(numbers[:(len(numbers)//2)])\n",
    "                arr_2 = np.array(numbers[(len(numbers)//2):])\n",
    "            \n",
    "                if len(arr_1) != len(arr_2): \n",
    "                    numbers = np.array([arr_2[0]] + list(arr_1+arr_2[1:]))\n",
    "                else: \n",
    "                    numbers = arr_1 + arr_2\n",
    "                \n",
    "                count += 1\n",
    "                if count == n: \n",
    "                    return numbers\n",
    "            "
   ]
  },
  {
   "cell_type": "code",
   "execution_count": 3,
   "metadata": {},
   "outputs": [],
   "source": [
    "# Works here for all test cases but not on codewars\n",
    "\n",
    "def split_and_add(numbers, n):\n",
    "    import numpy as np\n",
    "    \n",
    "    if len(numbers) < 2:\n",
    "        return numbers\n",
    "    \n",
    "    elif n == 0: \n",
    "        return numbers\n",
    "    else:   \n",
    "        count = 0\n",
    "        \n",
    "        for i in range(n):\n",
    "            if len(numbers) == 1:\n",
    "                return numbers\n",
    "            \n",
    "            else: \n",
    "                \n",
    "                arr_1 = np.array(numbers[:(len(numbers)//2)])\n",
    "                arr_2 = np.array(numbers[len(numbers)//2:])\n",
    "            \n",
    "                if len(arr_1) == len(arr_2): \n",
    "                    numbers = arr_1 + arr_2\n",
    "                else: \n",
    "                    zero = [arr_2[0]]\n",
    "                    arr_2 = arr_2[1:]\n",
    "                    sum_arr = arr_1 + arr_2\n",
    "                    \n",
    "                    numbers = zero + list(sum_arr)\n",
    "                    \n",
    "                count += 1\n",
    "                if count == n: \n",
    "                    return numbers\n"
   ]
  },
  {
   "cell_type": "code",
   "execution_count": null,
   "metadata": {},
   "outputs": [],
   "source": []
  }
 ],
 "metadata": {
  "kernelspec": {
   "display_name": "Python 3",
   "language": "python",
   "name": "python3"
  },
  "language_info": {
   "codemirror_mode": {
    "name": "ipython",
    "version": 3
   },
   "file_extension": ".py",
   "mimetype": "text/x-python",
   "name": "python",
   "nbconvert_exporter": "python",
   "pygments_lexer": "ipython3",
   "version": "3.7.5"
  }
 },
 "nbformat": 4,
 "nbformat_minor": 2
}
