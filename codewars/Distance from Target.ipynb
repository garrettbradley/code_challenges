{
 "cells": [
  {
   "cell_type": "markdown",
   "metadata": {},
   "source": [
    "## Distance from Target"
   ]
  },
  {
   "cell_type": "markdown",
   "metadata": {},
   "source": [
    "Q1. Given a string. Find distance of all characters from a target character. For example, \"Google\", target character= 'g', then result will be [0,1,1,0,1,2]"
   ]
  },
  {
   "cell_type": "code",
   "execution_count": 22,
   "metadata": {},
   "outputs": [],
   "source": [
    "def distance(string, target): \n",
    "    string = string.lower()\n",
    "    target = target.lower()\n",
    "\n",
    "    targ_pos = []\n",
    "    for i, char in enumerate(string): \n",
    "        if char == target:\n",
    "            targ_pos.append(i)\n",
    "    \n",
    "    result = []\n",
    "    \n",
    "    if len(targ_pos) == 0:\n",
    "        print(\"Target not in string\")\n",
    "    \n",
    "    else: \n",
    "        \n",
    "        for i, char in enumerate(string):\n",
    "            min_dist = len(string)\n",
    "            for j in targ_pos:\n",
    "                new_dist = abs(j - i)\n",
    "                if new_dist < min_dist: \n",
    "                    min_dist = new_dist\n",
    "            result.append(min_dist)\n",
    "        return result"
   ]
  },
  {
   "cell_type": "code",
   "execution_count": 26,
   "metadata": {},
   "outputs": [
    {
     "data": {
      "text/plain": [
       "[0, 1, 1, 0, 1, 2]"
      ]
     },
     "execution_count": 26,
     "metadata": {},
     "output_type": "execute_result"
    }
   ],
   "source": [
    "distance('google', 'g')"
   ]
  },
  {
   "cell_type": "code",
   "execution_count": null,
   "metadata": {},
   "outputs": [],
   "source": []
  },
  {
   "cell_type": "code",
   "execution_count": null,
   "metadata": {},
   "outputs": [],
   "source": []
  }
 ],
 "metadata": {
  "kernelspec": {
   "display_name": "Python 3",
   "language": "python",
   "name": "python3"
  },
  "language_info": {
   "codemirror_mode": {
    "name": "ipython",
    "version": 3
   },
   "file_extension": ".py",
   "mimetype": "text/x-python",
   "name": "python",
   "nbconvert_exporter": "python",
   "pygments_lexer": "ipython3",
   "version": "3.7.5"
  }
 },
 "nbformat": 4,
 "nbformat_minor": 2
}
