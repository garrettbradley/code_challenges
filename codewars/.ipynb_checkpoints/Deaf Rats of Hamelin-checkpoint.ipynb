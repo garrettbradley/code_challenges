{
 "cells": [
  {
   "cell_type": "markdown",
   "metadata": {},
   "source": [
    "Deaf Rats of Hamelin"
   ]
  },
  {
   "cell_type": "markdown",
   "metadata": {},
   "source": [
    "https://www.codewars.com/kata/the-deaf-rats-of-hamelin/train/python"
   ]
  },
  {
   "cell_type": "code",
   "execution_count": null,
   "metadata": {},
   "outputs": [],
   "source": [
    "Legend\n",
    "P = The Pied Piper\n",
    "O~ = Rat going left\n",
    "~O = Rat going right\n",
    "Example\n",
    "ex1 ~O~O~O~O P has 0 deaf rats\n",
    "ex2 P O~ O~ ~O O~ has 1 deaf rat\n",
    "ex3 ~O~O~O~OP~O~OO~ has 2 deaf rats"
   ]
  },
  {
   "cell_type": "code",
   "execution_count": null,
   "metadata": {},
   "outputs": [],
   "source": [
    "for i, char in town: \n",
    "    if char = 'P'\n",
    "        p = i\n",
    "\n",
    "left = 'O~'\n",
    "right = '~O'\n",
    "\n",
    "before = town[:p]\n",
    "after = town[p:]\n",
    "\n",
    "def_rat = before.count(left)\n",
    "def_rat += after.count(right)"
   ]
  },
  {
   "cell_type": "code",
   "execution_count": 33,
   "metadata": {},
   "outputs": [],
   "source": [
    "def count_deaf_rats(town):\n",
    "    town = town.replace(' ', '')\n",
    "            \n",
    "    p = town.index('P')\n",
    "            \n",
    "    left = 'O~'\n",
    "    right = '~O'\n",
    "        \n",
    "    left_of_p = town[:p]\n",
    "    deaf_rats = [left_of_p[i:i+2] for i in range(0, len(left_of_p), 2)].count(left)\n",
    "    \n",
    "    right_of_p = town[p+1:]\n",
    "    deaf_rats += [right_of_p[i:i+2] for i in range(0, len(right_of_p), 2)].count(right)\n",
    "   \n",
    "    return deaf_rats"
   ]
  },
  {
   "cell_type": "code",
   "execution_count": 34,
   "metadata": {},
   "outputs": [],
   "source": [
    "# Solution\n",
    "\n",
    "# return town.replace(' ', '')[::2].count('O')"
   ]
  },
  {
   "cell_type": "code",
   "execution_count": 37,
   "metadata": {},
   "outputs": [
    {
     "data": {
      "text/plain": [
       "2"
      ]
     },
     "execution_count": 37,
     "metadata": {},
     "output_type": "execute_result"
    }
   ],
   "source": [
    "count_deaf_rats('~O~O~O~OP~O~OO~')"
   ]
  }
 ],
 "metadata": {
  "kernelspec": {
   "display_name": "Python 3",
   "language": "python",
   "name": "python3"
  },
  "language_info": {
   "codemirror_mode": {
    "name": "ipython",
    "version": 3
   },
   "file_extension": ".py",
   "mimetype": "text/x-python",
   "name": "python",
   "nbconvert_exporter": "python",
   "pygments_lexer": "ipython3",
   "version": "3.7.6"
  }
 },
 "nbformat": 4,
 "nbformat_minor": 2
}
