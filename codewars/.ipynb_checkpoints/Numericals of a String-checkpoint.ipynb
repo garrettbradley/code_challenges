{
 "cells": [
  {
   "cell_type": "markdown",
   "metadata": {},
   "source": [
    "https://www.codewars.com/kata/numericals-of-a-string/train/python"
   ]
  },
  {
   "cell_type": "markdown",
   "metadata": {},
   "source": [
    "You are given an input string.\n",
    "\n",
    "For each symbol in the string if it's the first character occurence, replace it with a '1', else replace it with the amount of times you've already seen it...\n",
    "\n",
    "But will your code be performant enough?"
   ]
  },
  {
   "cell_type": "markdown",
   "metadata": {},
   "source": [
    "input   =  \"Hello, World!\"\n",
    "result  =  \"1112111121311\"\n",
    "\n",
    "input   =  \"aaaaaaaaaaaa\"\n",
    "result  =  \"123456789101112\""
   ]
  },
  {
   "cell_type": "markdown",
   "metadata": {},
   "source": [
    "There might be some non-ascii characters in the string."
   ]
  },
  {
   "cell_type": "code",
   "execution_count": 24,
   "metadata": {},
   "outputs": [],
   "source": [
    "import unittest\n"
   ]
  },
  {
   "cell_type": "code",
   "execution_count": 28,
   "metadata": {},
   "outputs": [],
   "source": [
    "class MyTest(unittest.TestCase):\n",
    "    def test(self):\n",
    "        self.assert_equals(fun(3), 4)"
   ]
  },
  {
   "cell_type": "code",
   "execution_count": 31,
   "metadata": {},
   "outputs": [
    {
     "ename": "SyntaxError",
     "evalue": "invalid syntax (<ipython-input-31-ee351d2d03fc>, line 1)",
     "output_type": "error",
     "traceback": [
      "\u001b[0;36m  File \u001b[0;32m\"<ipython-input-31-ee351d2d03fc>\"\u001b[0;36m, line \u001b[0;32m1\u001b[0m\n\u001b[0;31m    test(\"Hello, World!\"), \"1112111121311\")\u001b[0m\n\u001b[0m                                          ^\u001b[0m\n\u001b[0;31mSyntaxError\u001b[0m\u001b[0;31m:\u001b[0m invalid syntax\n"
     ]
    }
   ],
   "source": [
    "test.assert_equals(numericals(\"Hello, World!\"), \"1112111121311\")\n",
    "test.assert_equals(numericals(\"Hello, World! It's me, JomoPipi!\"), \"11121111213112111131224132411122\")\n",
    "test.assert_equals(numericals(\"hello hello\"), \"11121122342\")\n",
    "test.assert_equals(numericals(\"Hello\"), \"11121\")\n",
    "test.assert_equals(numericals(\"aaaaaaaaaaaa\"),\"123456789101112\")"
   ]
  },
  {
   "cell_type": "code",
   "execution_count": null,
   "metadata": {},
   "outputs": [],
   "source": []
  },
  {
   "cell_type": "code",
   "execution_count": 32,
   "metadata": {},
   "outputs": [],
   "source": [
    "# -*- coding: utf-8 -*-\n",
    "\n",
    "def numericals(s):\n",
    "    # -*- coding: UTF-8 -*-\n",
    "    #s_uni = 'u'+'\"'+s+'\"'\n",
    "    s_en = s.encode(\"ascii\", \"ignore\")\n",
    "    s_dec = s_en.decode('utf-8')\n",
    "    \n",
    "    s_nums= '1'\n",
    "    count = 1\n",
    "    \n",
    "    for i in range(1,len(s_dec)):\n",
    "        s_build = s_dec[:i]\n",
    "        ct = s_build.count(s_dec[i])\n",
    "        if ct == 0: \n",
    "            s_nums += '1'\n",
    "        else: \n",
    "            s_nums += str(ct + 1)\n",
    "            \n",
    "        #s_dec[i]\n",
    "        #if s_dec[i] == s_dec[i-1]: \n",
    "            #count += 1\n",
    "            #s_nums += str(count)\n",
    "        #else:\n",
    "            #count = 1\n",
    "            #s_nums += str(count)\n",
    "    return s_nums"
   ]
  },
  {
   "cell_type": "code",
   "execution_count": 33,
   "metadata": {},
   "outputs": [],
   "source": [
    "string = \"Hello, World! It's me, JomoPipi!\""
   ]
  },
  {
   "cell_type": "code",
   "execution_count": 34,
   "metadata": {},
   "outputs": [
    {
     "data": {
      "text/plain": [
       "'11121111213112111131224132411122'"
      ]
     },
     "execution_count": 34,
     "metadata": {},
     "output_type": "execute_result"
    }
   ],
   "source": [
    "numericals(string)"
   ]
  },
  {
   "cell_type": "code",
   "execution_count": 35,
   "metadata": {},
   "outputs": [],
   "source": [
    "    \n",
    "def numericals(s):    \n",
    "\n",
    "    s_nums= '1'\n",
    "    s_ct = {s_dec[0]: 1}\n",
    "    \n",
    "    for i in range(1,len(s)):\n",
    "        \n",
    "        if s[i] not in s_ct:\n",
    "            s_ct[s[i]] = 1\n",
    "            s_nums += '1'\n",
    "            \n",
    "        else: \n",
    "            s_ct[s[i]] = s_ct[s[i]] + 1\n",
    "            s_nums += str(s_ct[s[i]])\n",
    "            \n",
    "    return s_nums"
   ]
  },
  {
   "cell_type": "code",
   "execution_count": 36,
   "metadata": {},
   "outputs": [
    {
     "data": {
      "text/plain": [
       "'11121111213112111131224132411122'"
      ]
     },
     "execution_count": 36,
     "metadata": {},
     "output_type": "execute_result"
    }
   ],
   "source": [
    "numericals(string)"
   ]
  },
  {
   "cell_type": "code",
   "execution_count": null,
   "metadata": {},
   "outputs": [],
   "source": [
    "def numericals(s):  \n",
    "    d = {}\n",
    "    s_nums = ''\n",
    "    \n",
    "    for i in s:\n",
    "        d[i] = d.get(i, 0) + 1  \n",
    "        s_nums += str(d[i])\n",
    "            \n",
    "    return s_nums"
   ]
  }
 ],
 "metadata": {
  "kernelspec": {
   "display_name": "Python 3",
   "language": "python",
   "name": "python3"
  },
  "language_info": {
   "codemirror_mode": {
    "name": "ipython",
    "version": 3
   },
   "file_extension": ".py",
   "mimetype": "text/x-python",
   "name": "python",
   "nbconvert_exporter": "python",
   "pygments_lexer": "ipython3",
   "version": "3.7.5"
  }
 },
 "nbformat": 4,
 "nbformat_minor": 2
}
