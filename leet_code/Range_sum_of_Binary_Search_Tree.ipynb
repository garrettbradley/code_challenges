{
 "cells": [
  {
   "cell_type": "markdown",
   "metadata": {},
   "source": [
    "## Range Sum of Binary Search Tree"
   ]
  },
  {
   "cell_type": "markdown",
   "metadata": {},
   "source": [
    "Given the root node of a binary search tree, return the sum of values of all nodes with value between L and R (inclusive).\n",
    "\n",
    "The binary search tree is guaranteed to have unique values.\n",
    "\n",
    " \n",
    "\n",
    "Example 1:\n",
    "\n",
    "Input: root = [10,5,15,3,7,null,18], L = 7, R = 15\n",
    "Output: 32\n",
    "Example 2:\n",
    "\n",
    "Input: root = [10,5,15,3,7,13,18,1,null,6], L = 6, R = 10\n",
    "Output: 23\n",
    " \n",
    "\n",
    "Note:\n",
    "\n",
    "The number of nodes in the tree is at most 10000.\n",
    "The final answer is guaranteed to be less than 2^31."
   ]
  },
  {
   "cell_type": "markdown",
   "metadata": {},
   "source": [
    "#### Given:"
   ]
  },
  {
   "cell_type": "code",
   "execution_count": null,
   "metadata": {},
   "outputs": [],
   "source": [
    "# Definition for a binary tree node.\n",
    "# class TreeNode:\n",
    "#     def __init__(self, x):\n",
    "#         self.val = x\n",
    "#         self.left = None\n",
    "#         self.right = None\n",
    "\n",
    "class Solution:\n",
    "    def rangeSumBST(self, root: TreeNode, L: int, R: int) -> int:"
   ]
  },
  {
   "cell_type": "code",
   "execution_count": null,
   "metadata": {},
   "outputs": [],
   "source": []
  },
  {
   "cell_type": "markdown",
   "metadata": {},
   "source": [
    "#### Solution: "
   ]
  },
  {
   "cell_type": "code",
   "execution_count": null,
   "metadata": {},
   "outputs": [],
   "source": [
    "# Definition for a binary tree node.\n",
    "# class TreeNode:\n",
    "#     def __init__(self, x):\n",
    "#         self.val = x\n",
    "#         self.left = None\n",
    "#         self.right = None\n",
    "\n",
    "class Solution:\n",
    "    def rangeSumBST(self, root: TreeNode, L: int, R: int) -> int:\n",
    "        \n",
    "        if root: \n",
    "            if L <= root.val <= R:\n",
    "                return root.val + self.rangeSumBST(root.left, L, R) + self.rangeSumBST(root.right, L, R) \n",
    "            \n",
    "            elif root.val < L: \n",
    "                return self.rangeSumBST(root.right, L, R) \n",
    "            \n",
    "            elif root.val > R: \n",
    "                return self.rangeSumBST(root.left, L, R) \n",
    "        else: \n",
    "            return 0\n",
    "    "
   ]
  },
  {
   "cell_type": "markdown",
   "metadata": {},
   "source": [
    "#### Solution 2: "
   ]
  },
  {
   "cell_type": "code",
   "execution_count": 7,
   "metadata": {},
   "outputs": [],
   "source": [
    " def rangeSumBST(self, root, L, R):\n",
    "        if not root:return 0\n",
    "        r = root.val if L <= root.val <= R else 0\n",
    "        return r + self.rangeSumBST(root.left, L, R) + self.rangeSumBST(root.right, L, R)"
   ]
  },
  {
   "cell_type": "code",
   "execution_count": null,
   "metadata": {},
   "outputs": [],
   "source": [
    "#### Solution 3: Non-recursive\n",
    "\n",
    "class Solution:\n",
    "    # O(N) time\n",
    "    # O(N) space\n",
    "    # Non-recursive solution, Preorder (H, L, R) traversal\n",
    "    \n",
    "    def rangeSumBST(self, root: TreeNode, L: int, R: int) -> int:\n",
    "        \n",
    "        stack = []\n",
    "        sum = 0\n",
    "        stack.append(root)\n",
    "\n",
    "        while stack:\n",
    "            node = stack.pop()\n",
    "            if node.val >= L and node.val <= R:\n",
    "                sum += node.val\n",
    "            if node.left:\n",
    "                stack.append(node.left)\n",
    "            if node.right:\n",
    "                stack.append(node.right)\n",
    "\n",
    "        return sum"
   ]
  },
  {
   "cell_type": "markdown",
   "metadata": {},
   "source": [
    "### Binary Search Tree\n",
    "\n",
    "Additional tutorial code build"
   ]
  },
  {
   "cell_type": "code",
   "execution_count": null,
   "metadata": {},
   "outputs": [],
   "source": [
    "class TreeNode:\n",
    "    def __init__(self, x):\n",
    "        self.val = x\n",
    "        self.left = None\n",
    "        self.right = None"
   ]
  },
  {
   "cell_type": "code",
   "execution_count": 2,
   "metadata": {},
   "outputs": [],
   "source": [
    "class Node:\n",
    "\n",
    "    def __init__(self, data):\n",
    "\n",
    "        self.left = None\n",
    "        self.right = None\n",
    "        self.data = data\n",
    "\n",
    "    def insert(self, data):\n",
    "# Compare the new value with the parent node\n",
    "        if self.data:\n",
    "            if data < self.data:\n",
    "                if self.left is None:\n",
    "                    self.left = Node(data)\n",
    "                else:\n",
    "                    self.left.insert(data)\n",
    "            elif data > self.data:\n",
    "                if self.right is None:\n",
    "                    self.right = Node(data)\n",
    "                else:\n",
    "                    self.right.insert(data)\n",
    "        else:\n",
    "            self.data = data\n",
    "\n",
    "# Print the tree\n",
    "    def PrintTree(self):\n",
    "        if self.left:\n",
    "            self.left.PrintTree()\n",
    "        print(self.data),\n",
    "        if self.right:\n",
    "            self.right.PrintTree()"
   ]
  },
  {
   "cell_type": "code",
   "execution_count": 3,
   "metadata": {},
   "outputs": [],
   "source": [
    "root = Node(12)\n"
   ]
  },
  {
   "cell_type": "code",
   "execution_count": 5,
   "metadata": {},
   "outputs": [],
   "source": [
    "root.insert(6)"
   ]
  },
  {
   "cell_type": "code",
   "execution_count": 6,
   "metadata": {},
   "outputs": [
    {
     "name": "stdout",
     "output_type": "stream",
     "text": [
      "6\n",
      "12\n"
     ]
    }
   ],
   "source": [
    "root.PrintTree()"
   ]
  },
  {
   "cell_type": "code",
   "execution_count": null,
   "metadata": {},
   "outputs": [],
   "source": []
  }
 ],
 "metadata": {
  "kernelspec": {
   "display_name": "Python 3",
   "language": "python",
   "name": "python3"
  },
  "language_info": {
   "codemirror_mode": {
    "name": "ipython",
    "version": 3
   },
   "file_extension": ".py",
   "mimetype": "text/x-python",
   "name": "python",
   "nbconvert_exporter": "python",
   "pygments_lexer": "ipython3",
   "version": "3.7.5"
  }
 },
 "nbformat": 4,
 "nbformat_minor": 2
}
