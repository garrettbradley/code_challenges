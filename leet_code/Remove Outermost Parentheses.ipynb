{
 "cells": [
  {
   "cell_type": "markdown",
   "metadata": {},
   "source": [
    "## 1021. Remove Outermost Parentheses"
   ]
  },
  {
   "cell_type": "markdown",
   "metadata": {},
   "source": [
    "Easy"
   ]
  },
  {
   "cell_type": "markdown",
   "metadata": {},
   "source": [
    "**Description:**"
   ]
  },
  {
   "cell_type": "markdown",
   "metadata": {},
   "source": [
    "A valid parentheses string is either empty (\"\"), \"(\" + A + \")\", or A + B, where A and B are valid parentheses strings, and + represents string concatenation.  For example, \"\", \"()\", \"(())()\", and \"(()(()))\" are all valid parentheses strings.\n",
    "\n",
    "A valid parentheses string S is primitive if it is nonempty, and there does not exist a way to split it into S = A+B, with A and B nonempty valid parentheses strings.\n",
    "\n",
    "Given a valid parentheses string S, consider its primitive decomposition: S = P_1 + P_2 + ... + P_k, where P_i are primitive valid parentheses strings.\n",
    "\n",
    "Return S after removing the outermost parentheses of every primitive string in the primitive decomposition of S."
   ]
  },
  {
   "cell_type": "markdown",
   "metadata": {},
   "source": [
    "**Example 1:**<br>\n",
    "Input: \"(()())(())\"<br>\n",
    "Output: \"()()()\"\n",
    "\n",
    "**Explanation:** <br>\n",
    "The input string is \"(()())(())\", with primitive decomposition \"(()())\" + \"(())\".<br>\n",
    "After removing outer parentheses of each part, this is \"()()\" + \"()\" = \"()()()\".<br>\n",
    "<br>\n",
    "<br>\n",
    "**Example 2:**\n",
    "<br>\n",
    "Input: \"(()())(())(()(()))\" <br>\n",
    "Output: \"()()()()(())\"<br>\n",
    "\n",
    "**Explanation:** <br>\n",
    "The input string is \"(()())(())(()(()))\", with primitive decomposition \"(()())\" + \"(())\" + \"(()(()))\".<br>\n",
    "After removing outer parentheses of each part, this is \"()()\" + \"()\" + \"()(())\" = \"()()()()(())\".<br>\n",
    "<br>\n",
    "<br>\n",
    "**Example 3:**\n",
    "<br>\n",
    "Input: \"()()\"<br>\n",
    "Output: \"\"\n",
    "<br>\n",
    "<br>\n",
    "**Explanation:** <br>\n",
    "The input string is \"()()\", with primitive decomposition \"()\" + \"()\".<br>\n",
    "After removing outer parentheses of each part, this is \"\" + \"\" = \"\".<br>"
   ]
  },
  {
   "cell_type": "markdown",
   "metadata": {},
   "source": [
    "### Solution 1:"
   ]
  },
  {
   "cell_type": "code",
   "execution_count": 29,
   "metadata": {},
   "outputs": [],
   "source": [
    "# Setup input | output variables\n",
    "\n",
    "in_1 = \"(()())(())\"\n",
    "out_1 = \"()()()\"\n",
    "\n",
    "in_2 = \"(()())(())(()(()))\"\n",
    "out_2 = \"()()()()(())\"\n",
    "\n",
    "in_3 = \"()()\"\n",
    "out_3 = \"\""
   ]
  },
  {
   "cell_type": "markdown",
   "metadata": {},
   "source": [
    "**Testing:**"
   ]
  },
  {
   "cell_type": "code",
   "execution_count": 40,
   "metadata": {},
   "outputs": [],
   "source": [
    "def rem_outer_parens(string): \n",
    "    l_par = 0                         # instantiate left parens counter\n",
    "    r_par = 0                         # instantiate right parens counter\n",
    "    start = 0                         # instantiate start point\n",
    "    decomp = []                       # instantiate empty list\n",
    "    \n",
    "    for i,char in enumerate(string):  # loop through string \n",
    "        if char == '(':                \n",
    "            l_par += 1                # count occurences of left parens \n",
    "        elif char == ')':             \n",
    "            r_par += 1                       # count occurrences of right parens\n",
    "        if r_par == l_par:                   # when right and left parens are equal again\n",
    "            decomp.append(string[start:i+1]) # append substring to list\n",
    "            start = i+1                      # move start up to i+1\n",
    "            \n",
    "    return ''.join([x[1:-1] for x in decomp]) # join list of strings\n",
    "        "
   ]
  },
  {
   "cell_type": "code",
   "execution_count": 42,
   "metadata": {},
   "outputs": [
    {
     "data": {
      "text/plain": [
       "'()()()'"
      ]
     },
     "execution_count": 42,
     "metadata": {},
     "output_type": "execute_result"
    }
   ],
   "source": [
    "rem_outer_parens(in_1)"
   ]
  },
  {
   "cell_type": "code",
   "execution_count": 33,
   "metadata": {},
   "outputs": [],
   "source": [
    "def rem_outer_parens(in_str, out_str): \n",
    "    l_par = 0                         # instantiate left parens counter\n",
    "    r_par = 0                         # instantiate right parens counter\n",
    "    start = 0                         # instantiate start point\n",
    "    decomp = []                       # instantiate empty list\n",
    "    \n",
    "    for i,char in enumerate(in_str):  # loop through string \n",
    "        if char == '(':                \n",
    "            l_par += 1                # count occurences of left parens \n",
    "        elif char == ')':             \n",
    "            r_par += 1                       # count occurrences of right parens\n",
    "        if r_par == l_par:                   # when right and left parens are equal again\n",
    "            decomp.append(in_str[start:i+1]) # append substring to list\n",
    "            start = i+1                      # move start up to i+1\n",
    "            \n",
    "    result = ''.join([x[1:-1] for x in decomp]) # join list of strings with first and last character removed\n",
    "    \n",
    "    return True if result == out_str else False"
   ]
  },
  {
   "cell_type": "markdown",
   "metadata": {},
   "source": [
    "**Example 1:**"
   ]
  },
  {
   "cell_type": "code",
   "execution_count": 34,
   "metadata": {},
   "outputs": [
    {
     "data": {
      "text/plain": [
       "True"
      ]
     },
     "execution_count": 34,
     "metadata": {},
     "output_type": "execute_result"
    }
   ],
   "source": [
    "rem_outer_parens(in_1, out_1)"
   ]
  },
  {
   "cell_type": "markdown",
   "metadata": {},
   "source": [
    "**Example 2:**"
   ]
  },
  {
   "cell_type": "code",
   "execution_count": 37,
   "metadata": {},
   "outputs": [
    {
     "data": {
      "text/plain": [
       "True"
      ]
     },
     "execution_count": 37,
     "metadata": {},
     "output_type": "execute_result"
    }
   ],
   "source": [
    "rem_outer_parens(in_2, out_2)"
   ]
  },
  {
   "cell_type": "markdown",
   "metadata": {},
   "source": [
    "**Example 3:**"
   ]
  },
  {
   "cell_type": "code",
   "execution_count": 38,
   "metadata": {},
   "outputs": [
    {
     "data": {
      "text/plain": [
       "True"
      ]
     },
     "execution_count": 38,
     "metadata": {},
     "output_type": "execute_result"
    }
   ],
   "source": [
    "rem_outer_parens(in_3, out_3)"
   ]
  },
  {
   "cell_type": "markdown",
   "metadata": {},
   "source": [
    "### Solution 2: "
   ]
  },
  {
   "cell_type": "code",
   "execution_count": 44,
   "metadata": {},
   "outputs": [],
   "source": [
    "def rem_outer_parens(string): \n",
    "    l_par = 0                         # instantiate left parens counter\n",
    "    r_par = 0                         # instantiate right parens counter\n",
    "    start = 0                         # instantiate start point\n",
    "    decomp = []                       # instantiate empty list\n",
    "    \n",
    "    for i,char in enumerate(string):  # loop through string \n",
    "        if string[start:i+1].count('(') == string[start:i+1].count(')'):\n",
    "            decomp.append(string[start:i+1]) # append substring to list\n",
    "            start = i+1                      # move start up to i+1\n",
    "            \n",
    "    return ''.join([x[1:-1] for x in decomp]) # join list of strings\n",
    "        "
   ]
  },
  {
   "cell_type": "code",
   "execution_count": 45,
   "metadata": {},
   "outputs": [
    {
     "data": {
      "text/plain": [
       "'()()()'"
      ]
     },
     "execution_count": 45,
     "metadata": {},
     "output_type": "execute_result"
    }
   ],
   "source": [
    "rem_outer_parens(in_1)"
   ]
  },
  {
   "cell_type": "code",
   "execution_count": 46,
   "metadata": {},
   "outputs": [
    {
     "data": {
      "text/plain": [
       "'()()()()(())'"
      ]
     },
     "execution_count": 46,
     "metadata": {},
     "output_type": "execute_result"
    }
   ],
   "source": [
    "rem_outer_parens(in_2)"
   ]
  },
  {
   "cell_type": "code",
   "execution_count": 47,
   "metadata": {},
   "outputs": [
    {
     "data": {
      "text/plain": [
       "''"
      ]
     },
     "execution_count": 47,
     "metadata": {},
     "output_type": "execute_result"
    }
   ],
   "source": [
    "rem_outer_parens(in_3)"
   ]
  },
  {
   "cell_type": "markdown",
   "metadata": {},
   "source": [
    "**Solution 3:**"
   ]
  },
  {
   "cell_type": "code",
   "execution_count": 63,
   "metadata": {},
   "outputs": [],
   "source": [
    "def rem_outer_parens(string): \n",
    "    l_par = 0                         # instantiate left parens counter\n",
    "    r_par = 0                         # instantiate right parens counter\n",
    "    start = 0                         # instantiate start point\n",
    "    result = ''                       # instantiate empty string\n",
    "    \n",
    "    for i,char in enumerate(string):  # loop through string \n",
    "        if char == '(':                \n",
    "            l_par += 1                # count occurences of left parens \n",
    "        elif char == ')':             \n",
    "            r_par += 1                       # count occurrences of right parens\n",
    "        if r_par == l_par:                   # when right and left parens are equal again\n",
    "            result += string[start:i+1][1:-1]\n",
    "            #decomp.append(string[start:i+1]) # append substring to list\n",
    "            start = i+1                       # move start up to i+1\n",
    "            \n",
    "    return result                    # join list of strings\n",
    "        "
   ]
  },
  {
   "cell_type": "code",
   "execution_count": 64,
   "metadata": {},
   "outputs": [
    {
     "data": {
      "text/plain": [
       "'()()()'"
      ]
     },
     "execution_count": 64,
     "metadata": {},
     "output_type": "execute_result"
    }
   ],
   "source": [
    "rem_outer_parens(in_1)"
   ]
  },
  {
   "cell_type": "code",
   "execution_count": 65,
   "metadata": {},
   "outputs": [
    {
     "data": {
      "text/plain": [
       "'()()()()(())'"
      ]
     },
     "execution_count": 65,
     "metadata": {},
     "output_type": "execute_result"
    }
   ],
   "source": [
    "rem_outer_parens(in_2)"
   ]
  },
  {
   "cell_type": "code",
   "execution_count": 66,
   "metadata": {},
   "outputs": [
    {
     "data": {
      "text/plain": [
       "''"
      ]
     },
     "execution_count": 66,
     "metadata": {},
     "output_type": "execute_result"
    }
   ],
   "source": [
    "rem_outer_parens(in_3)"
   ]
  },
  {
   "cell_type": "code",
   "execution_count": 53,
   "metadata": {},
   "outputs": [],
   "source": [
    "lis = []\n",
    "\n",
    "lis += '()()'"
   ]
  },
  {
   "cell_type": "code",
   "execution_count": 54,
   "metadata": {},
   "outputs": [
    {
     "data": {
      "text/plain": [
       "['(', ')', '(', ')']"
      ]
     },
     "execution_count": 54,
     "metadata": {},
     "output_type": "execute_result"
    }
   ],
   "source": [
    "lis"
   ]
  },
  {
   "cell_type": "code",
   "execution_count": 57,
   "metadata": {},
   "outputs": [],
   "source": [
    "lis += \"()\""
   ]
  },
  {
   "cell_type": "code",
   "execution_count": 58,
   "metadata": {},
   "outputs": [
    {
     "data": {
      "text/plain": [
       "'()()()'"
      ]
     },
     "execution_count": 58,
     "metadata": {},
     "output_type": "execute_result"
    }
   ],
   "source": [
    "''.join(lis)"
   ]
  },
  {
   "cell_type": "markdown",
   "metadata": {},
   "source": [
    "### Solution 4:"
   ]
  },
  {
   "cell_type": "code",
   "execution_count": 67,
   "metadata": {},
   "outputs": [],
   "source": [
    "def rem_outer_parens(s): \n",
    "    l_par = 0                         # instantiate left parens counter\n",
    "    r_par = 0                         # instantiate right parens counter\n",
    "    start = 0                         # instantiate start point\n",
    "    result = ''                       # instantiate empty string\n",
    "    \n",
    "    for i in range(len(s)):  # loop through string \n",
    "        if s[i] == '(':                \n",
    "            l_par += 1                # count occurences of left parens \n",
    "        else:             \n",
    "            r_par += 1                       # count occurrences of right parens\n",
    "        if r_par == l_par:                   # when right and left parens are equal again\n",
    "            result += s[start+1:i]           # add substring to result, without first and last char\n",
    "            start = i+1                       # move start up to i+1\n",
    "            \n",
    "    return result                    # join list of strings\n",
    "        "
   ]
  },
  {
   "cell_type": "code",
   "execution_count": 68,
   "metadata": {},
   "outputs": [
    {
     "data": {
      "text/plain": [
       "'()()()'"
      ]
     },
     "execution_count": 68,
     "metadata": {},
     "output_type": "execute_result"
    }
   ],
   "source": [
    "rem_outer_parens(in_1)"
   ]
  },
  {
   "cell_type": "code",
   "execution_count": 69,
   "metadata": {},
   "outputs": [
    {
     "data": {
      "text/plain": [
       "'()()()()(())'"
      ]
     },
     "execution_count": 69,
     "metadata": {},
     "output_type": "execute_result"
    }
   ],
   "source": [
    "rem_outer_parens(in_2)"
   ]
  },
  {
   "cell_type": "code",
   "execution_count": 70,
   "metadata": {},
   "outputs": [
    {
     "data": {
      "text/plain": [
       "''"
      ]
     },
     "execution_count": 70,
     "metadata": {},
     "output_type": "execute_result"
    }
   ],
   "source": [
    "rem_outer_parens(in_3)"
   ]
  },
  {
   "cell_type": "markdown",
   "metadata": {},
   "source": [
    "### Solution 5:"
   ]
  },
  {
   "cell_type": "code",
   "execution_count": 71,
   "metadata": {},
   "outputs": [],
   "source": [
    "# Fastest: enumerate, and better indexing of decomposed string \n",
    "\n",
    "def rem_outer_parens(s): \n",
    "    l_par = 0                         # instantiate left parens counter\n",
    "    r_par = 0                         # instantiate right parens counter\n",
    "    start = 0                         # instantiate start point\n",
    "    result = ''                       # instantiate empty string\n",
    "    \n",
    "    for i,char in enumerate(s):  # loop through string \n",
    "        if char == '(':                \n",
    "            l_par += 1                # count occurences of left parens \n",
    "        else:             \n",
    "            r_par += 1                       # count occurrences of right parens\n",
    "        if r_par == l_par:                   # when right and left parens are equal again\n",
    "            result += s[start+1:i]           # add substring to result, without first and last char\n",
    "            start = i+1                       # move start up to i+1\n",
    "            \n",
    "    return result                    # join list of strings\n",
    "        "
   ]
  },
  {
   "cell_type": "code",
   "execution_count": 72,
   "metadata": {},
   "outputs": [
    {
     "data": {
      "text/plain": [
       "'()()()'"
      ]
     },
     "execution_count": 72,
     "metadata": {},
     "output_type": "execute_result"
    }
   ],
   "source": [
    "rem_outer_parens(in_1)"
   ]
  },
  {
   "cell_type": "code",
   "execution_count": 73,
   "metadata": {},
   "outputs": [
    {
     "data": {
      "text/plain": [
       "'()()()()(())'"
      ]
     },
     "execution_count": 73,
     "metadata": {},
     "output_type": "execute_result"
    }
   ],
   "source": [
    "rem_outer_parens(in_2)"
   ]
  },
  {
   "cell_type": "code",
   "execution_count": 74,
   "metadata": {},
   "outputs": [
    {
     "data": {
      "text/plain": [
       "''"
      ]
     },
     "execution_count": 74,
     "metadata": {},
     "output_type": "execute_result"
    }
   ],
   "source": [
    "rem_outer_parens(in_3)"
   ]
  },
  {
   "cell_type": "code",
   "execution_count": null,
   "metadata": {},
   "outputs": [],
   "source": []
  }
 ],
 "metadata": {
  "kernelspec": {
   "display_name": "Python 3",
   "language": "python",
   "name": "python3"
  },
  "language_info": {
   "codemirror_mode": {
    "name": "ipython",
    "version": 3
   },
   "file_extension": ".py",
   "mimetype": "text/x-python",
   "name": "python",
   "nbconvert_exporter": "python",
   "pygments_lexer": "ipython3",
   "version": "3.7.5"
  }
 },
 "nbformat": 4,
 "nbformat_minor": 2
}
