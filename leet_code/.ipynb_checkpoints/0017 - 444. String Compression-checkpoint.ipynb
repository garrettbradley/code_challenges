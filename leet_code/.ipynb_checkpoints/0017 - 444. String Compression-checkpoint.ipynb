{
 "cells": [
  {
   "cell_type": "markdown",
   "metadata": {},
   "source": [
    "## 444. String Compression"
   ]
  },
  {
   "cell_type": "markdown",
   "metadata": {},
   "source": [
    "Given an array of characters, compress it in-place.\n",
    "\n",
    "The length after compression must always be smaller than or equal to the original array.\n",
    "\n",
    "Every element of the array should be a character (not int) of length 1.\n",
    "\n",
    "After you are done modifying the input array in-place, return the new length of the array.\n",
    "\n",
    " \n",
    "**Follow up:**<br>\n",
    "Could you solve it using only O(1) extra space?"
   ]
  },
  {
   "cell_type": "markdown",
   "metadata": {},
   "source": [
    "**Example 1:**\n",
    "\n",
    "Input:\n",
    "[\"a\",\"a\",\"b\",\"b\",\"c\",\"c\",\"c\"]\n",
    "\n",
    "**Output:**\n",
    "Return 6, and the first 6 characters of the input array should be: [\"a\",\"2\",\"b\",\"2\",\"c\",\"3\"]\n",
    "\n",
    "**Explanation:**\n",
    "\"aa\" is replaced by \"a2\". \"bb\" is replaced by \"b2\". \"ccc\" is replaced by \"c3\".\n",
    "\n",
    "**Example 2:**\n",
    "\n",
    "Input:\n",
    "[\"a\"]\n",
    "\n",
    "**Output:**\n",
    "Return 1, and the first 1 characters of the input array should be: [\"a\"]\n",
    "\n",
    "**Explanation:**\n",
    "Nothing is replaced.\n",
    "\n",
    "**Example 3:**\n",
    "\n",
    "Input:\n",
    "[\"a\",\"b\",\"b\",\"b\",\"b\",\"b\",\"b\",\"b\",\"b\",\"b\",\"b\",\"b\",\"b\"]\n",
    "\n",
    "**Output:**\n",
    "Return 4, and the first 4 characters of the input array should be: [\"a\",\"b\",\"1\",\"2\"].\n",
    "\n",
    "**Explanation:**\n",
    "Since the character \"a\" does not repeat, it is not compressed. \"bbbbbbbbbbbb\" is replaced by \"b12\".\n",
    "Notice each digit has it's own entry in the array."
   ]
  },
  {
   "cell_type": "markdown",
   "metadata": {},
   "source": [
    "Note:\n",
    "\n",
    "All characters have an ASCII value in [35, 126].\n",
    "1 <= len(chars) <= 1000."
   ]
  },
  {
   "cell_type": "code",
   "execution_count": 122,
   "metadata": {},
   "outputs": [],
   "source": [
    "input_1 = ['a','a','b','b','c','c']"
   ]
  },
  {
   "cell_type": "code",
   "execution_count": 123,
   "metadata": {},
   "outputs": [],
   "source": [
    "input_2 = ['a']"
   ]
  },
  {
   "cell_type": "code",
   "execution_count": 124,
   "metadata": {},
   "outputs": [],
   "source": [
    "input_3 = ['a','b','b','b','b','b','b','b','b','b','b','b','b']"
   ]
  },
  {
   "cell_type": "markdown",
   "metadata": {},
   "source": [
    "**Solution:**<br>\n",
    "modify array with new array, then overwrite array"
   ]
  },
  {
   "cell_type": "code",
   "execution_count": 280,
   "metadata": {},
   "outputs": [],
   "source": [
    "def compress(chars):\n",
    "    \n",
    "    # initialize empty list and counter\n",
    "    lst = []\n",
    "    ct = 1\n",
    "    \n",
    "    if len(chars) > 1:\n",
    "        \n",
    "        # start loop at 1\n",
    "        for i in range(1,len(chars)):\n",
    "            \n",
    "            # if next char equals prev char add 1 to counter\n",
    "            if chars[i] == chars[i-1]:\n",
    "                ct += 1\n",
    "                # set final_ct to counter for loop exit of last char\n",
    "                final_ct = ct\n",
    "            \n",
    "            # elseif next char does not equal prev and counter still equals 1, \n",
    "            # append only previous char to list\n",
    "            elif ct == 1:\n",
    "                lst.append(chars[i-1])\n",
    "             \n",
    "            # append previous char to list, \n",
    "            # append each string digit of counter\n",
    "            # set final_ct to counter for loop exit of last char\n",
    "            # reset counter\n",
    "            else:\n",
    "                lst.append(chars[i-1])\n",
    "                for num in list(str(ct)):\n",
    "                    lst.append(num)\n",
    "                final_ct = ct\n",
    "                ct = 1\n",
    "        \n",
    "        # append last character\n",
    "        lst.append(chars[i])\n",
    "        \n",
    "        # test if last character was single count or more\n",
    "        # if more than single count, append final count\n",
    "        if chars[-1] == chars[-2]:\n",
    "            for num in str(final_ct):\n",
    "                lst.append(num)\n",
    "\n",
    "    # if length of array == 1, leave it as is\n",
    "    else: \n",
    "        lst.append(chars[0])\n",
    "    \n",
    "    # overwrite chars in place\n",
    "    chars[:] = lst\n",
    "    return len(chars), chars"
   ]
  },
  {
   "cell_type": "markdown",
   "metadata": {},
   "source": [
    "**Input Tests:**"
   ]
  },
  {
   "cell_type": "code",
   "execution_count": 281,
   "metadata": {},
   "outputs": [
    {
     "data": {
      "text/plain": [
       "['a', 'a', 'b', 'b', 'c', 'c']"
      ]
     },
     "execution_count": 281,
     "metadata": {},
     "output_type": "execute_result"
    }
   ],
   "source": [
    "input_1 = ['a','a','b','b','c','c']\n",
    "input_1"
   ]
  },
  {
   "cell_type": "code",
   "execution_count": 282,
   "metadata": {},
   "outputs": [
    {
     "data": {
      "text/plain": [
       "(6, ['a', '2', 'b', '2', 'c', '2'])"
      ]
     },
     "execution_count": 282,
     "metadata": {},
     "output_type": "execute_result"
    }
   ],
   "source": [
    "compress(input_1)"
   ]
  },
  {
   "cell_type": "code",
   "execution_count": 283,
   "metadata": {},
   "outputs": [
    {
     "data": {
      "text/plain": [
       "['a']"
      ]
     },
     "execution_count": 283,
     "metadata": {},
     "output_type": "execute_result"
    }
   ],
   "source": [
    "input_2"
   ]
  },
  {
   "cell_type": "code",
   "execution_count": 284,
   "metadata": {},
   "outputs": [
    {
     "data": {
      "text/plain": [
       "(1, ['a'])"
      ]
     },
     "execution_count": 284,
     "metadata": {},
     "output_type": "execute_result"
    }
   ],
   "source": [
    "compress(input_2)\n",
    "#chars"
   ]
  },
  {
   "cell_type": "code",
   "execution_count": 285,
   "metadata": {},
   "outputs": [
    {
     "data": {
      "text/plain": [
       "['a', 'b', 'b', 'b', 'b', 'b', 'b', 'b', 'b', 'b', 'b', 'b', 'b']"
      ]
     },
     "execution_count": 285,
     "metadata": {},
     "output_type": "execute_result"
    }
   ],
   "source": [
    "input_3 = ['a','b','b','b','b','b','b','b','b','b','b','b','b']\n",
    "input_3"
   ]
  },
  {
   "cell_type": "code",
   "execution_count": 286,
   "metadata": {},
   "outputs": [
    {
     "data": {
      "text/plain": [
       "['a', 'b', 'b', 'b', 'b', 'b', 'b', 'b', 'b', 'b', 'b', 'b', 'b', 'a']"
      ]
     },
     "execution_count": 286,
     "metadata": {},
     "output_type": "execute_result"
    }
   ],
   "source": [
    "input_3b = ['a','b','b','b','b','b','b','b','b','b','b','b','b','a']\n",
    "input_3b"
   ]
  },
  {
   "cell_type": "code",
   "execution_count": 287,
   "metadata": {},
   "outputs": [
    {
     "data": {
      "text/plain": [
       "(4, ['a', 'b', '1', '2'])"
      ]
     },
     "execution_count": 287,
     "metadata": {},
     "output_type": "execute_result"
    }
   ],
   "source": [
    "compress(input_3)"
   ]
  },
  {
   "cell_type": "code",
   "execution_count": 288,
   "metadata": {},
   "outputs": [
    {
     "data": {
      "text/plain": [
       "(5, ['a', 'b', '1', '2', 'a'])"
      ]
     },
     "execution_count": 288,
     "metadata": {},
     "output_type": "execute_result"
    }
   ],
   "source": [
    "compress(input_3b)"
   ]
  },
  {
   "cell_type": "code",
   "execution_count": 289,
   "metadata": {},
   "outputs": [],
   "source": [
    "input_4 = [\"a\",\"a\",\"b\",\"b\",\"c\",\"c\",\"c\"]"
   ]
  },
  {
   "cell_type": "code",
   "execution_count": 290,
   "metadata": {},
   "outputs": [
    {
     "data": {
      "text/plain": [
       "(6, ['a', '2', 'b', '2', 'c', '3'])"
      ]
     },
     "execution_count": 290,
     "metadata": {},
     "output_type": "execute_result"
    }
   ],
   "source": [
    "compress(input_4)"
   ]
  },
  {
   "cell_type": "code",
   "execution_count": 291,
   "metadata": {},
   "outputs": [],
   "source": [
    "input_5 = ['a','b','c']"
   ]
  },
  {
   "cell_type": "code",
   "execution_count": 292,
   "metadata": {},
   "outputs": [
    {
     "data": {
      "text/plain": [
       "(3, ['a', 'b', 'c'])"
      ]
     },
     "execution_count": 292,
     "metadata": {},
     "output_type": "execute_result"
    }
   ],
   "source": [
    "compress(input_5)"
   ]
  },
  {
   "cell_type": "code",
   "execution_count": 278,
   "metadata": {},
   "outputs": [],
   "source": [
    "input_6 = [\"a\",\"a\",\"a\",\"a\",\"a\",\"b\"]"
   ]
  },
  {
   "cell_type": "code",
   "execution_count": 279,
   "metadata": {},
   "outputs": [
    {
     "data": {
      "text/plain": [
       "(3, ['a', '5', 'b'])"
      ]
     },
     "execution_count": 279,
     "metadata": {},
     "output_type": "execute_result"
    }
   ],
   "source": [
    "compress(input_6)"
   ]
  },
  {
   "cell_type": "markdown",
   "metadata": {},
   "source": [
    "**Solution 2:**"
   ]
  },
  {
   "cell_type": "code",
   "execution_count": null,
   "metadata": {},
   "outputs": [],
   "source": [
    "def compress(chars):\n",
    "    i = 0 # length of original string\n",
    "    j = 0 # length of compressed string\n",
    "    \n",
    "    # loop throw length of chars\n",
    "    while i < len(chars):\n",
    "        \n",
    "        # set current char\n",
    "        current = chars[i]\n",
    "        ct = 0\n",
    "        \n",
    "        # inner loop for consecutive element\n",
    "        while i < len(chars) and chars[i] == current:\n",
    "            i += 1\n",
    "            ct += 1\n",
    "        \n",
    "        # replace chars with current char at end of consecutive sequence\n",
    "        chars[j] = current\n",
    "        j += 1\n",
    "        \n",
    "        # if counter does not equal 1\n",
    "        if ct != 1:\n",
    "            for num in str(ct):\n",
    "                chars[j] = ct\n",
    "                j += 1\n",
    "    return j"
   ]
  }
 ],
 "metadata": {
  "kernelspec": {
   "display_name": "Python 3",
   "language": "python",
   "name": "python3"
  },
  "language_info": {
   "codemirror_mode": {
    "name": "ipython",
    "version": 3
   },
   "file_extension": ".py",
   "mimetype": "text/x-python",
   "name": "python",
   "nbconvert_exporter": "python",
   "pygments_lexer": "ipython3",
   "version": "3.7.6"
  }
 },
 "nbformat": 4,
 "nbformat_minor": 2
}
