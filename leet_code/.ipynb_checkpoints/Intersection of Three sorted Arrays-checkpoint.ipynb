{
 "cells": [
  {
   "cell_type": "markdown",
   "metadata": {},
   "source": [
    "## Intersection of Three Sorted Arrays"
   ]
  },
  {
   "cell_type": "markdown",
   "metadata": {},
   "source": [
    "Given three integer arrays arr1, arr2 and arr3 sorted in strictly increasing order, return a sorted array of only the integers that appeared in all three arrays.\n",
    "\n",
    " \n",
    "\n",
    "**Example 1:**\n",
    "<br>\n",
    "Input: arr1 = [1,2,3,4,5], arr2 = [1,2,5,7,9], arr3 = [1,3,4,5,8] <br>\n",
    "Output: [1,5]<br>\n",
    "\n",
    "**Explanation:** Only 1 and 5 appeared in the three arrays.\n",
    " \n",
    "\n",
    "**Constraints:**\n",
    " - 1 <= arr1.length, arr2.length, arr3.length <= 1000\n",
    " - 1 <= arr1[i], arr2[i], arr3[i] <= 2000"
   ]
  },
  {
   "cell_type": "markdown",
   "metadata": {},
   "source": [
    "**Solution 1:** "
   ]
  },
  {
   "cell_type": "code",
   "execution_count": null,
   "metadata": {},
   "outputs": [],
   "source": [
    "def arraysIntersection(self, arr1: List[int], arr2: List[int], arr3: List[int]) -> List[int]:\n",
    "        \n",
    "    res = []\n",
    "    for i in arr1: \n",
    "        for j in arr2: \n",
    "            for k in arr3: \n",
    "                if i == j and i == k: \n",
    "                    res.append(k)\n",
    "    return res"
   ]
  },
  {
   "cell_type": "code",
   "execution_count": 5,
   "metadata": {},
   "outputs": [],
   "source": [
    "def arraysIntersection(arr1, arr2, arr3):\n",
    "        \n",
    "    res = []\n",
    "    for i in arr1: \n",
    "        for j in arr2: \n",
    "            for k in arr3: \n",
    "                if i == j and i == k: \n",
    "                    res.append(k)\n",
    "    return res"
   ]
  },
  {
   "cell_type": "code",
   "execution_count": 7,
   "metadata": {},
   "outputs": [
    {
     "data": {
      "text/plain": [
       "[1, 5]"
      ]
     },
     "execution_count": 7,
     "metadata": {},
     "output_type": "execute_result"
    }
   ],
   "source": [
    "arr1 = [1,2,3,4,5]\n",
    "arr2 = [1,2,5,7,9]\n",
    "arr3 = [1,4,5,8]\n",
    "\n",
    "arraysIntersection(arr1, arr2, arr3)"
   ]
  },
  {
   "cell_type": "markdown",
   "metadata": {},
   "source": [
    "Note: Time limit exceeded on above solution. Not efficient with three for loops and 1000 element arrays."
   ]
  },
  {
   "cell_type": "markdown",
   "metadata": {},
   "source": [
    "**Solution 2**:"
   ]
  },
  {
   "cell_type": "code",
   "execution_count": 9,
   "metadata": {},
   "outputs": [],
   "source": [
    "def arraysIntersection(arr1, arr2, arr3):\n",
    "    res = []\n",
    "    for i in arr1: \n",
    "        if i in arr2 and i in arr3: \n",
    "            res.append(i)\n",
    "    return res"
   ]
  },
  {
   "cell_type": "code",
   "execution_count": 12,
   "metadata": {},
   "outputs": [
    {
     "data": {
      "text/plain": [
       "[1, 5]"
      ]
     },
     "execution_count": 12,
     "metadata": {},
     "output_type": "execute_result"
    }
   ],
   "source": [
    "arr1 = [1,2,3,4,5]\n",
    "arr2 = [1,2,5,7,9]\n",
    "arr3 = [1,4,5,8]\n",
    "\n",
    "arraysIntersection(arr1, arr2, arr3)"
   ]
  },
  {
   "cell_type": "markdown",
   "metadata": {},
   "source": [
    "Notes: Answer accepted but still very slow (172 ms)"
   ]
  },
  {
   "cell_type": "markdown",
   "metadata": {},
   "source": [
    "**Solution 3:** Hash Graph with dictionary"
   ]
  },
  {
   "cell_type": "code",
   "execution_count": 22,
   "metadata": {},
   "outputs": [],
   "source": [
    "def arraysIntersection(arr1, arr2, arr3):\n",
    "    combined = arr1 + arr2 + arr3\n",
    "    ct_dict = {}\n",
    "    \n",
    "    for i in combined: \n",
    "        if i in ct_dict:\n",
    "            ct_dict[i] += 1\n",
    "        else: \n",
    "            ct_dict[i] = 1\n",
    "            \n",
    "    return sorted([key for key, val in ct_dict.items() if val == 3])"
   ]
  },
  {
   "cell_type": "code",
   "execution_count": 23,
   "metadata": {},
   "outputs": [
    {
     "data": {
      "text/plain": [
       "[1, 5]"
      ]
     },
     "execution_count": 23,
     "metadata": {},
     "output_type": "execute_result"
    }
   ],
   "source": [
    "arraysIntersection(arr1, arr2, arr3)"
   ]
  },
  {
   "cell_type": "markdown",
   "metadata": {},
   "source": [
    "Notes: 76 ms, faster than 96%"
   ]
  },
  {
   "cell_type": "markdown",
   "metadata": {},
   "source": [
    "**Solution 4:** Hash Graph with defaultdict()"
   ]
  },
  {
   "cell_type": "code",
   "execution_count": 28,
   "metadata": {},
   "outputs": [],
   "source": [
    "def arraysIntersection(arr1, arr2, arr3):\n",
    "    from collections import defaultdict\n",
    "    combined = arr1 + arr2 + arr3\n",
    "    # ct_dict = defaultdict(lambda: 0)    # instantiate any new dict key with value of 0\n",
    "    # 92, 88, 84 ms on leetcode\n",
    "    ct_dict = defaultdict(int)            # above is not necessary, use int instead\n",
    "    \n",
    "    for i in combined: \n",
    "        ct_dict[i] += 1\n",
    "    \n",
    "    return sorted([key for key, val in ct_dict.items() if val == 3])"
   ]
  },
  {
   "cell_type": "code",
   "execution_count": 27,
   "metadata": {},
   "outputs": [
    {
     "data": {
      "text/plain": [
       "[1, 5]"
      ]
     },
     "execution_count": 27,
     "metadata": {},
     "output_type": "execute_result"
    }
   ],
   "source": [
    "arr1 = [1,2,3,4,5]\n",
    "arr2 = [1,2,5,7,9]\n",
    "arr3 = [1,4,5,8]\n",
    "\n",
    "arraysIntersection(arr1, arr2, arr3)"
   ]
  },
  {
   "cell_type": "markdown",
   "metadata": {},
   "source": [
    "Notes: 84 ms, faster than 67%"
   ]
  },
  {
   "cell_type": "markdown",
   "metadata": {},
   "source": [
    "**Solution 5:**  Use normal dict and dict.get(i, 0)"
   ]
  },
  {
   "cell_type": "code",
   "execution_count": 24,
   "metadata": {},
   "outputs": [],
   "source": [
    "def arraysIntersection(arr1, arr2, arr3):\n",
    "    combined = arr1 + arr2 + arr3\n",
    "    ct_dict = {}\n",
    "    \n",
    "    for i in combined: \n",
    "        ct_dict[i] = ct_dict.get(i, 0) + 1\n",
    "    \n",
    "    return sorted([key for key, val in ct_dict.items() if val == 3])"
   ]
  },
  {
   "cell_type": "code",
   "execution_count": 25,
   "metadata": {},
   "outputs": [
    {
     "data": {
      "text/plain": [
       "[1, 5]"
      ]
     },
     "execution_count": 25,
     "metadata": {},
     "output_type": "execute_result"
    }
   ],
   "source": [
    "arr1 = [1,2,3,4,5]\n",
    "arr2 = [1,2,5,7,9]\n",
    "arr3 = [1,4,5,8]\n",
    "\n",
    "arraysIntersection(arr1, arr2, arr3)"
   ]
  },
  {
   "cell_type": "markdown",
   "metadata": {},
   "source": [
    "Notes: 80, 76ms, faster than 94%"
   ]
  },
  {
   "cell_type": "code",
   "execution_count": null,
   "metadata": {},
   "outputs": [],
   "source": []
  }
 ],
 "metadata": {
  "kernelspec": {
   "display_name": "Python 3",
   "language": "python",
   "name": "python3"
  },
  "language_info": {
   "codemirror_mode": {
    "name": "ipython",
    "version": 3
   },
   "file_extension": ".py",
   "mimetype": "text/x-python",
   "name": "python",
   "nbconvert_exporter": "python",
   "pygments_lexer": "ipython3",
   "version": "3.7.5"
  }
 },
 "nbformat": 4,
 "nbformat_minor": 2
}
