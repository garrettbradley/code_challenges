{
 "cells": [
  {
   "cell_type": "markdown",
   "metadata": {},
   "source": [
    "## Traffic Light Controlled Intersection"
   ]
  },
  {
   "cell_type": "markdown",
   "metadata": {},
   "source": [
    "https://leetcode.com/problems/traffic-light-controlled-intersection/\n"
   ]
  },
  {
   "cell_type": "markdown",
   "metadata": {},
   "source": [
    "1279. Traffic Light Controlled Intersection\n",
    "\n",
    "There is an intersection of two roads. First road is road A where cars travel from North to South in direction 1 and from South to North in direction 2. Second road is road B where cars travel from West to East in direction 3 and from East to West in direction 4.\n",
    "\n",
    "\n",
    "![image.png](../images/traffic_light_intersection.png)\n",
    "\n",
    "\n",
    "There is a traffic light located on each road before the intersection. A traffic light can either be green or red.\n",
    "\n",
    " 1. Green means cars can cross the intersection in both directions of the road.\n",
    "Red means cars in both directions cannot cross the intersection and must wait until the light turns green.\n",
    "The traffic lights cannot be green on both roads at the same time. That means when the light is green on road A, it is red on road B and when the light is green on road B, it is red on road A.\n",
    "\n",
    "2. Initially, the traffic light is green on road A and red on road B. When the light is green on one road, all cars can cross the intersection in both directions until the light becomes green on the other road. No two cars traveling on different roads should cross at the same time.\n",
    "\n",
    "Design a deadlock-free traffic light controlled system at this intersection.\n",
    "\n",
    "Implement the function void carArrived(carId, roadId, direction, turnGreen, crossCar) where:\n",
    "\n",
    " - carId is the id of the car that arrived.\n",
    " - roadId is the id of the road that the car travels on.\n",
    " - direction is the direction of the car.\n",
    " - turnGreen is a function you can call to turn the traffic light to green on the current road.\n",
    " - crossCar is a function you can call to let the current car cross the intersection.\n",
    " - Your answer is considered correct if it avoids cars deadlock in the intersection. Turning the light green on a road when it was already green is considered a wrong answer.\n",
    "\n",
    " \n",
    "\n",
    "#### Example 1:\n",
    "\n",
    "Input: cars = [1,3,5,2,4], directions = [2,1,2,4,3], arrivalTimes = [10,20,30,40,50] <br>\n",
    "<br>\n",
    "Output: [\n",
    "\"Car 1 Has Passed Road A In Direction 2\",    // Traffic light on road A is green, car 1 can cross the intersection.<br>\n",
    "\"Car 3 Has Passed Road A In Direction 1\",    // Car 3 crosses the intersection as the light is still green.<br>\n",
    "\"Car 5 Has Passed Road A In Direction 2\",    // Car 5 crosses the intersection as the light is still green.<br>\n",
    "\"Traffic Light On Road B Is Green\",          // Car 2 requests green light for road B.\n",
    "\"Car 2 Has Passed Road B In Direction 4\",    // Car 2 crosses as the light is green on road B now.<br>\n",
    "\"Car 4 Has Passed Road B In Direction 3\"     // Car 4 crosses the intersection as the light is still green.\n",
    "]\n",
    "<br>\n",
    "<br>\n",
    "#### Example 2:\n",
    "\n",
    "Input: cars = [1,2,3,4,5], directions = [2,4,3,3,1], arrivalTimes = [10,20,30,40,40]<br>\n",
    "<br>\n",
    "Output: [\n",
    "\"Car 1 Has Passed Road A In Direction 2\",    // Traffic light on road A is green, car 1 can cross the intersection.<br>\n",
    "\"Traffic Light On Road B Is Green\",          // Car 2 requests green light for road B.\n",
    "\"Car 2 Has Passed Road B In Direction 4\",    // Car 2 crosses as the light is green on road B now.<br>\n",
    "\"Car 3 Has Passed Road B In Direction 3\",    // Car 3 crosses as the light is green on road B now.<br>\n",
    "\"Traffic Light On Road A Is Green\",          // Car 5 requests green light for road A.\n",
    "\"Car 5 Has Passed Road A In Direction 1\",    // Car 5 crosses as the light is green on road A now.<br>\n",
    "\"Traffic Light On Road B Is Green\",          // Car 4 requests green light for road B. Car 4 blocked until car 5 crosses and then traffic light is green on road B.<br>\n",
    "\"Car 4 Has Passed Road B In Direction 3\"     // Car 4 crosses as the light is green on road B now.\n",
    "]<br>\n",
    "<br>\n",
    "<br>\n",
    "#### Explanation: \n",
    "This is a dead-lock free scenario. Note that the scenario when car 4 crosses before turning light into green on road A and allowing car 5 to pass is also correct and Accepted scenario.\n",
    " \n",
    "\n",
    "Constraints:\n",
    "\n",
    " - 1 <= cars.length <= 20\n",
    " - cars.length = directions.length \n",
    " - cars.length = arrivalTimes.length<br>\n",
    " - All values of cars are unique<br>\n",
    " - 1 <= directions[i] <= 4<br>\n",
    " - arrivalTimes is non-decreasing<br>"
   ]
  },
  {
   "cell_type": "markdown",
   "metadata": {},
   "source": [
    "#### Given: "
   ]
  },
  {
   "cell_type": "code",
   "execution_count": null,
   "metadata": {},
   "outputs": [],
   "source": [
    "class TrafficLight:\n",
    "    def __init__(self):\n",
    "        pass\n",
    "\n",
    "    def carArrived(\n",
    "        self,\n",
    "        carId: int,                      # ID of the car\n",
    "        roadId: int,                     # ID of the road the car travels on. Can be 1 (road A) or 2 (road B)\n",
    "        direction: int,                  # Direction of the car\n",
    "        turnGreen: 'Callable[[], None]', # Use turnGreen() to turn light to green on current road\n",
    "        crossCar: 'Callable[[], None]'   # Use crossCar() to make car cross the intersection\n",
    "    ) -> None:\n",
    "       "
   ]
  },
  {
   "cell_type": "markdown",
   "metadata": {},
   "source": [
    "#### Solution: "
   ]
  },
  {
   "cell_type": "code",
   "execution_count": 2,
   "metadata": {},
   "outputs": [],
   "source": [
    "class TrafficLight:\n",
    "    def __init__(self):\n",
    "        self.current_green = 1           # set current greenlight to road A\n",
    "\n",
    "    def carArrived(\n",
    "        self,\n",
    "        carId: int,                      # ID of the car\n",
    "        roadId: int,                     # ID of the road the car travels on. Can be 1 (road A) or 2 (road B)\n",
    "        direction: int,                  # Direction of the car\n",
    "        turnGreen: 'Callable[[], None]', # Use turnGreen() to turn light to green on current road\n",
    "        crossCar: 'Callable[[], None]'   # Use crossCar() to make car cross the intersection\n",
    "    ) -> None:\n",
    "        \n",
    "        if self.current_green != roadId: # if current green signal is not road A (first occurrence)\n",
    "            turnGreen()                  # change light to green\n",
    "            self.current_green = roadId  # change green to Road B (or back to A for later occurrences)\n",
    "                \n",
    "        crossCar()                       # make car cross"
   ]
  },
  {
   "cell_type": "markdown",
   "metadata": {},
   "source": [
    "#### Explicit Solution: "
   ]
  },
  {
   "cell_type": "code",
   "execution_count": null,
   "metadata": {},
   "outputs": [],
   "source": [
    "class TrafficLight:\n",
    "    def __init__(self):\n",
    "        self.current_signal = 1           # set current signal to be green on road A\n",
    "\n",
    "    def carArrived(\n",
    "        self,\n",
    "        carId: int,                      # ID of the car\n",
    "        roadId: int,                     # ID of the road the car travels on. Can be 1 (road A) or 2 (road B)\n",
    "        direction: int,                  # Direction of the car\n",
    "        turnGreen: 'Callable[[], None]', # Use turnGreen() to turn light to green on current road\n",
    "        crossCar: 'Callable[[], None]'   # Use crossCar() to make car cross the intersection\n",
    "    ) -> None:\n",
    "        \n",
    "        if self.current_signal == 1:     # check if current signal is green on Road A\n",
    "            if roadID = 1:               # check if current car is on Road A, same as green signal\n",
    "                crossCar()               # Make car cross\n",
    "            else: \n",
    "                self.current_signal = roadId  # otherwise, change green to Road B, the current roadId\n",
    "                turnGreen()                   # change light to green\n",
    "                crossCar()                    # Make car cross\n",
    "                \n",
    "        else:                            # current signal is 2 or green on Road B\n",
    "            if roadID == 1:              # If roadId is 1\n",
    "                self.current_signal = roadId  # change green to Road A, or 1\n",
    "                turnGreen()                   # change light to green\n",
    "                crossCar()                    # make car cross\n",
    "                \n",
    "            else:                        # otherwise roadId is 2, same as current signal on Road B\n",
    "                crossCar()               # make car cross    \n",
    "                \n",
    "      "
   ]
  }
 ],
 "metadata": {
  "kernelspec": {
   "display_name": "Python 3",
   "language": "python",
   "name": "python3"
  },
  "language_info": {
   "codemirror_mode": {
    "name": "ipython",
    "version": 3
   },
   "file_extension": ".py",
   "mimetype": "text/x-python",
   "name": "python",
   "nbconvert_exporter": "python",
   "pygments_lexer": "ipython3",
   "version": "3.7.5"
  }
 },
 "nbformat": 4,
 "nbformat_minor": 2
}
