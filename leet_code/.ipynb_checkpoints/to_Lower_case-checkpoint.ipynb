{
 "cells": [
  {
   "cell_type": "markdown",
   "metadata": {},
   "source": [
    "### To Lower Case"
   ]
  },
  {
   "cell_type": "markdown",
   "metadata": {},
   "source": [
    "Implement function ToLowerCase() that has a string parameter str, and returns the same string in lowercase.\n",
    "\n",
    " \n",
    "\n",
    "Example 1:\n",
    "\n",
    "Input: \"Hello\"<br>\n",
    "Output: \"hello\"<br>\n",
    "\n",
    "Example 2:\n",
    "\n",
    "Input: \"here\"<br>\n",
    "Output: \"here\"<br>\n",
    "\n",
    "Example 3:\n",
    "\n",
    "Input: \"LOVELY\"<br>\n",
    "Output: \"lovely\"<br>"
   ]
  },
  {
   "cell_type": "markdown",
   "metadata": {},
   "source": [
    "**Solution 1:**"
   ]
  },
  {
   "cell_type": "code",
   "execution_count": 9,
   "metadata": {},
   "outputs": [],
   "source": [
    "def toLowerCase(s):\n",
    "        return s.lower()"
   ]
  },
  {
   "cell_type": "code",
   "execution_count": 10,
   "metadata": {},
   "outputs": [
    {
     "data": {
      "text/plain": [
       "'apple'"
      ]
     },
     "execution_count": 10,
     "metadata": {},
     "output_type": "execute_result"
    }
   ],
   "source": [
    "toLowerCase('APPLE')"
   ]
  },
  {
   "cell_type": "markdown",
   "metadata": {},
   "source": [
    "**Solution 2:**"
   ]
  },
  {
   "cell_type": "code",
   "execution_count": null,
   "metadata": {},
   "outputs": [],
   "source": [
    "class Solution:\n",
    "    def toLowerCase(self, str: str) -> str:\n",
    "        mapping= {'A':'a', 'B':'b', 'C':'c','D':'d', 'E':'e',\n",
    "                  'F':'f','G':'g','H':'h','I':'i', 'J':'j' ,\n",
    "                  'K':'k','L':'l','M':'m', 'N':'n','O':'o',\n",
    "                  'P':'p', 'Q':'q', 'R':'r', 'S':'s','T':'t',\n",
    "                  'U':'u', 'V':'v','W':'w','X':'x', 'Y':'y','Z':'z'}\n",
    "    \n",
    "        low_str = ''\n",
    "        for char in str:\n",
    "            if char in map.keys(): low_str += map[char]\n",
    "            else: l_str += char\n",
    "                \n",
    "        return low_str"
   ]
  },
  {
   "cell_type": "markdown",
   "metadata": {},
   "source": [
    "**Solution 3:**"
   ]
  },
  {
   "cell_type": "code",
   "execution_count": null,
   "metadata": {},
   "outputs": [],
   "source": [
    "def toLowerCase(self, str: str) -> str:\n",
    "    mapping = {u: l for l, u in zip('abcdefghijklmnopqrstuvwxyz', 'ABCDEFGHIJKLMNOPQRSTUVWXYZ')}\n",
    "    \n",
    "    low = []\n",
    "    for s in str:\n",
    "        low.append(mapping[s] if s in mapping else s)\n",
    "        \n",
    "    return ''.join(low)"
   ]
  },
  {
   "cell_type": "markdown",
   "metadata": {},
   "source": [
    "**Solution 4:**"
   ]
  },
  {
   "cell_type": "code",
   "execution_count": null,
   "metadata": {},
   "outputs": [],
   "source": [
    "class Solution:\n",
    "    def toLowerCase(self, str: str) -> str:\n",
    "        low_str =''\n",
    "        for char in str:\n",
    "            if 65 <= ord(char) <=90 : l_str += chr(ord(char) + 32)\n",
    "            else: low_str += char       \n",
    "        return low_str"
   ]
  }
 ],
 "metadata": {
  "kernelspec": {
   "display_name": "Python 3",
   "language": "python",
   "name": "python3"
  },
  "language_info": {
   "codemirror_mode": {
    "name": "ipython",
    "version": 3
   },
   "file_extension": ".py",
   "mimetype": "text/x-python",
   "name": "python",
   "nbconvert_exporter": "python",
   "pygments_lexer": "ipython3",
   "version": "3.7.5"
  }
 },
 "nbformat": 4,
 "nbformat_minor": 2
}
