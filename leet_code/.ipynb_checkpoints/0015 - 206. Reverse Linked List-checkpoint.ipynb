{
 "cells": [
  {
   "cell_type": "markdown",
   "metadata": {},
   "source": [
    "## 206. Reverse Linked List"
   ]
  },
  {
   "cell_type": "markdown",
   "metadata": {},
   "source": [
    "Reverse a singly linked list.\n",
    "\n",
    "Example:\n",
    "\n",
    "Input: 1->2->3->4->5->NULL <br>\n",
    "Output: 5->4->3->2->1->NULL <br>\n",
    "\n",
    "Follow up:\n",
    "\n",
    "A linked list can be reversed either iteratively or recursively. Could you implement both?"
   ]
  },
  {
   "cell_type": "code",
   "execution_count": null,
   "metadata": {},
   "outputs": [],
   "source": [
    "# Definition for singly-linked list.\n",
    "# class ListNode(object):\n",
    "#     def __init__(self, x):\n",
    "#         self.val = x\n",
    "#         self.next = None"
   ]
  },
  {
   "cell_type": "code",
   "execution_count": null,
   "metadata": {},
   "outputs": [],
   "source": [
    "def rev_linklist(self, head):\n",
    "\n",
    "    #Iteratively\n",
    "    curr = head               # set curr to head node\n",
    "    prev = None               # instantiate prev variable with Null\n",
    "    \n",
    "    while curr != None:       # while loop traverses through link list until getting to Null end\n",
    "        \n",
    "        nxt = curr.next       # set next var equal to next node of current\n",
    "        curr.next = prev      # reassign link from next node of current to previous node of current\n",
    "        prev = curr           # reassign prev var to current node\n",
    "        curr = nxt            # reassign curr node to next var, traversing by one step\n",
    "    head = prev               # after loop exits, assign head node to be prev, which is last node in original list\n",
    "    return head         "
   ]
  }
 ],
 "metadata": {
  "kernelspec": {
   "display_name": "Python 3",
   "language": "python",
   "name": "python3"
  },
  "language_info": {
   "codemirror_mode": {
    "name": "ipython",
    "version": 3
   },
   "file_extension": ".py",
   "mimetype": "text/x-python",
   "name": "python",
   "nbconvert_exporter": "python",
   "pygments_lexer": "ipython3",
   "version": "3.7.6"
  }
 },
 "nbformat": 4,
 "nbformat_minor": 2
}
