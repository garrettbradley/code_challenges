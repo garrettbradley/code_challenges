{
 "cells": [
  {
   "cell_type": "code",
   "execution_count": 23,
   "metadata": {},
   "outputs": [],
   "source": [
    "# This problem is unfinished\n",
    "\n",
    "# Review Other submissions and Solution tutorial on leetcode"
   ]
  },
  {
   "cell_type": "markdown",
   "metadata": {},
   "source": [
    "## 267. Palindrome Permutation II"
   ]
  },
  {
   "cell_type": "markdown",
   "metadata": {},
   "source": [
    "Given a string s, return all the palindromic permutations (without duplicates) of it. <br>\n",
    "Return an empty list if no palindromic permutation could be form."
   ]
  },
  {
   "cell_type": "markdown",
   "metadata": {},
   "source": [
    "**Example 1:**\n",
    "\n",
    "Input: \"aabb\"\n",
    "\n",
    "Output: [\"abba\", \"baab\"]\n",
    "    \n",
    "**Example 2:**\n",
    "\n",
    "Input: \"abc\"\n",
    "\n",
    "Output: []"
   ]
  },
  {
   "cell_type": "code",
   "execution_count": 16,
   "metadata": {},
   "outputs": [],
   "source": [
    "import numpy as np\n",
    "import math"
   ]
  },
  {
   "cell_type": "markdown",
   "metadata": {},
   "source": [
    "#### Solution 1:"
   ]
  },
  {
   "cell_type": "code",
   "execution_count": 8,
   "metadata": {},
   "outputs": [],
   "source": [
    "s = 'string'"
   ]
  },
  {
   "cell_type": "code",
   "execution_count": 12,
   "metadata": {},
   "outputs": [
    {
     "data": {
      "text/plain": [
       "'aabb'"
      ]
     },
     "execution_count": 12,
     "metadata": {},
     "output_type": "execute_result"
    }
   ],
   "source": [
    "a = 'a'\n",
    "val_a = 4\n",
    "b = 'b'\n",
    "val_b = 4\n",
    "bla = ''\n",
    "a*(val_a//2) + bla + b*(val_b//2)"
   ]
  },
  {
   "cell_type": "code",
   "execution_count": 5,
   "metadata": {},
   "outputs": [],
   "source": [
    "s = 'aaaabbbbccccddddffgg'\n",
    "s = s[::-1]"
   ]
  },
  {
   "cell_type": "code",
   "execution_count": 8,
   "metadata": {},
   "outputs": [],
   "source": [
    "d = {}\n",
    "for char in s: \n",
    "        d[char] = d.get(char, 0) + 1"
   ]
  },
  {
   "cell_type": "code",
   "execution_count": 9,
   "metadata": {},
   "outputs": [
    {
     "data": {
      "text/plain": [
       "['a', 'b', 'c', 'd', 'f', 'g']"
      ]
     },
     "execution_count": 9,
     "metadata": {},
     "output_type": "execute_result"
    }
   ],
   "source": [
    "sorted(d.keys())"
   ]
  },
  {
   "cell_type": "code",
   "execution_count": 2,
   "metadata": {},
   "outputs": [],
   "source": [
    "def pal_perm(s): \n",
    "    '''\n",
    "    Function returns True if string can produce palindrome, otherwise False.\n",
    "    This function was created for Palindrome Permutation I problem.\n",
    "    '''\n",
    "\n",
    "    d = {}\n",
    "    for char in s: \n",
    "        d[char] = d.get(char,0) + 1\n",
    "     \n",
    "    odd_ct = 0\n",
    "    \n",
    "    for val in d.values():\n",
    "        if val % 2 != 0: \n",
    "            odd_ct += 1\n",
    "\n",
    "    return True if odd_ct <=1 else False"
   ]
  },
  {
   "cell_type": "code",
   "execution_count": 10,
   "metadata": {},
   "outputs": [
    {
     "data": {
      "text/plain": [
       "{'g': 2, 'f': 2, 'd': 4, 'c': 4, 'b': 4, 'a': 4}"
      ]
     },
     "execution_count": 10,
     "metadata": {},
     "output_type": "execute_result"
    }
   ],
   "source": [
    "d"
   ]
  },
  {
   "cell_type": "code",
   "execution_count": 17,
   "metadata": {},
   "outputs": [
    {
     "data": {
      "text/plain": [
       "['g', 'f', 'd', 'd', 'c', 'c', 'b', 'b', 'a', 'a']"
      ]
     },
     "execution_count": 17,
     "metadata": {},
     "output_type": "execute_result"
    }
   ],
   "source": [
    "even = []\n",
    "for key in d.keys():\n",
    "    if d[key] % 2 == 0:\n",
    "        even += [key for k in range(d[key] // 2)]\n",
    "even"
   ]
  },
  {
   "cell_type": "code",
   "execution_count": 20,
   "metadata": {},
   "outputs": [
    {
     "ename": "TypeError",
     "evalue": "'float' object cannot be interpreted as an integer",
     "output_type": "error",
     "traceback": [
      "\u001b[0;31m---------------------------------------------------------------------------\u001b[0m",
      "\u001b[0;31mTypeError\u001b[0m                                 Traceback (most recent call last)",
      "\u001b[0;32m<ipython-input-20-524f1619233f>\u001b[0m in \u001b[0;36m<module>\u001b[0;34m\u001b[0m\n\u001b[0;32m----> 1\u001b[0;31m \u001b[0;32mfor\u001b[0m \u001b[0mi\u001b[0m \u001b[0;32min\u001b[0m \u001b[0mrange\u001b[0m\u001b[0;34m(\u001b[0m\u001b[0;36m3\u001b[0m\u001b[0;34m/\u001b[0m\u001b[0;36m2\u001b[0m\u001b[0;34m)\u001b[0m\u001b[0;34m:\u001b[0m\u001b[0;34m\u001b[0m\u001b[0;34m\u001b[0m\u001b[0m\n\u001b[0m\u001b[1;32m      2\u001b[0m     \u001b[0mprint\u001b[0m \u001b[0;34m(\u001b[0m\u001b[0mi\u001b[0m\u001b[0;34m)\u001b[0m\u001b[0;34m\u001b[0m\u001b[0;34m\u001b[0m\u001b[0m\n",
      "\u001b[0;31mTypeError\u001b[0m: 'float' object cannot be interpreted as an integer"
     ]
    }
   ],
   "source": [
    "for i in range(3/2):\n",
    "    print (i)"
   ]
  },
  {
   "cell_type": "code",
   "execution_count": null,
   "metadata": {},
   "outputs": [],
   "source": [
    "def pal_perm_2(s):\n",
    "    alpha = 'abcdefghijklmnopqrstuvwxyz'\n",
    "    pals = []\n",
    "    dic = {}\n",
    "    pal_dict = {}\n",
    "    pal = ''\n",
    "    k = None # key for holding odd count character\n",
    "    \n",
    "    # from palindrome permutation 1\n",
    "    d = {}\n",
    "    for char in s: \n",
    "        d[char] = d.get(char,0) + 1\n",
    "     \n",
    "    odd_ct = 0\n",
    "    \n",
    "    for key in d.keys():\n",
    "        if d[key] % 2 != 0: \n",
    "            odd_ct += 1\n",
    "            k = key         # k the odd character\n",
    "        if d[key] != 1: \n",
    "            for i in range(d[key]/2): \n",
    "            \n",
    "    \n",
    "    # if string is only one letter, regardless of count\n",
    "    if len(d) == 1: \n",
    "        return[s]\n",
    "    \n",
    "    # If more than than odd char count return empty list     \n",
    "    if odd_ct > 1:\n",
    "        return []\n",
    "    \n",
    "    for key in d.keys():\n",
    "        if d[key] % 2 == 0: \n",
    "            \n",
    "    # If odd ct = 1, we have an odd length string number\n",
    "    elif odd_ct == 1:\n",
    "        \n",
    "        # build palindrome, based on half the length\n",
    "        for key in d.keys():\n",
    "            if \n",
    "        for i in range(0,len(s)//2):\n",
    "            pal = \n",
    "    res,element=0,-1\n",
    "    t=[]\n",
    "    for key in dic.keys():\n",
    "        if dic[key]==1:\n",
    "            res+=1\n",
    "            element=key\n",
    "        else:\n",
    "            if not dic[key]%2==0:\n",
    "                res+=1\n",
    "                element=key\n",
    "            for i in range(dic[key]/2):\n",
    "                t.append(str(key))  "
   ]
  },
  {
   "cell_type": "code",
   "execution_count": null,
   "metadata": {},
   "outputs": [],
   "source": [
    "        \n",
    "        \n",
    "    \n",
    "    if s == s[::-1]: \n",
    "        pals.append(s)\n",
    "    \n",
    "    # create frequency dict\n",
    "    for char in s: \n",
    "            dic[char] = dic.get(char, 0) + 1\n",
    "            \n",
    "    # check for count of odd char counts\n",
    "    odd_chars = 0\n",
    "    for key in dic.keys():\n",
    "        if dic[key] \n",
    "    \n",
    "    \n",
    "    # if string length is even, char counts must be even for palindrome\n",
    "    if len(s) % 2 == 0:\n",
    "        \n",
    "        for key,val in dic.items():\n",
    "            if val % 2 != 0:            # if any char counts are odd\n",
    "                return []                # not palindrome\n",
    "            else:\n",
    "                pal = key*(val//2) + pal + key*(val//2)  # build base palindrome\n",
    "                #pal_dict[key*(val//2)] = \n",
    "        \n",
    "        for key in dic.keys():\n",
    "            if dic[key] % 2 != 0:      # if any char counts are odd\n",
    "                return []              # not palindrome\n",
    "            else: \n",
    "                \n",
    "        \n",
    "        pals.append(pal)\n",
    "        # build out palindrome permutations\n",
    "        for i range(0,len(pal)/2):\n",
    "            \n",
    "        \n",
    "        \n",
    "        # build out palindrome permutations\n",
    "        count = 0 \n",
    "        while count < len(s_dict.keys):\n",
    "            pal = ''\n",
    "            for i, char in enumerate(sorted(s_dict.keys())): \n",
    "                pal = key*(s_dict[key]//2) + pal + key*(s_dict[key]//2)\n",
    "                pal = \n",
    "            \n",
    "        \n",
    "    # case for string length is odd\n",
    "    else:\n",
    "        # if more than one key has odd counts, not palindrome\n",
    "        odd_vals = 0\n",
    "        for val in s_dict_values():\n",
    "            if val % 2 != 0: \n",
    "                odd_vals += 1\n",
    "                if odd vals > 1: \n",
    "                    return []\n",
    "            \n",
    "        for keys,vals in s_dict.items\n",
    "                \n",
    "        "
   ]
  },
  {
   "cell_type": "markdown",
   "metadata": {},
   "source": [
    "**User Solutions**: "
   ]
  },
  {
   "cell_type": "markdown",
   "metadata": {},
   "source": [
    "Python Solution with Recursion <br>\n",
    "https://leetcode.com/problems/palindrome-permutation-ii/discuss/370416/Python-Solution-with-Recursion"
   ]
  },
  {
   "cell_type": "markdown",
   "metadata": {},
   "source": [
    "Python DFS and Backtracking<br>\n",
    "https://leetcode.com/problems/palindrome-permutation-ii/discuss/432410/Python-DFS-and-backtracking"
   ]
  },
  {
   "cell_type": "markdown",
   "metadata": {},
   "source": [
    "Python Flag and Helper Func <br>\n",
    "https://leetcode.com/problems/palindrome-permutation-ii/discuss/480780/Python-Solution-beats-90"
   ]
  },
  {
   "cell_type": "markdown",
   "metadata": {},
   "source": [
    "Python Using itertools Permutations func<br>\n",
    "https://leetcode.com/problems/palindrome-permutation-ii/discuss/434902/Simple-Solution-in-python"
   ]
  },
  {
   "cell_type": "markdown",
   "metadata": {},
   "source": [
    "Python Backtracking<br>\n",
    "https://leetcode.com/problems/palindrome-permutation-ii/discuss/443293/Backtracting-Permutation-solution-in-Python-beats-95"
   ]
  },
  {
   "cell_type": "markdown",
   "metadata": {},
   "source": [
    "Python Solution with Backtracking<br>\n",
    "https://leetcode.com/problems/palindrome-permutation-ii/discuss/397793/Python-Solution-with-Backtracking"
   ]
  },
  {
   "cell_type": "markdown",
   "metadata": {},
   "source": [
    "Python Solution<br>\n",
    "https://leetcode.com/problems/palindrome-permutation-ii/discuss/372496/Python-Solution"
   ]
  },
  {
   "cell_type": "code",
   "execution_count": null,
   "metadata": {},
   "outputs": [],
   "source": []
  }
 ],
 "metadata": {
  "kernelspec": {
   "display_name": "Python 3",
   "language": "python",
   "name": "python3"
  },
  "language_info": {
   "codemirror_mode": {
    "name": "ipython",
    "version": 3
   },
   "file_extension": ".py",
   "mimetype": "text/x-python",
   "name": "python",
   "nbconvert_exporter": "python",
   "pygments_lexer": "ipython3",
   "version": "3.7.6"
  }
 },
 "nbformat": 4,
 "nbformat_minor": 2
}
