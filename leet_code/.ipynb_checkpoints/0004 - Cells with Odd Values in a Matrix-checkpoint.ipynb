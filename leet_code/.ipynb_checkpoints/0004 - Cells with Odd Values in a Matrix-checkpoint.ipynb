{
 "cells": [
  {
   "cell_type": "markdown",
   "metadata": {},
   "source": [
    "## 0004 - Cells with Odd Values in a Matrix"
   ]
  },
  {
   "cell_type": "markdown",
   "metadata": {},
   "source": [
    "Given n and m which are the dimensions of a matrix initialized by zeros and given an array indices where indices[i] = [ri, ci]. For each pair of [ri, ci] you have to increment all cells in row ri and column ci by 1.\n",
    "\n",
    "Return the number of cells with odd values in the matrix after applying the increment to all indices.\n",
    "\n",
    " \n",
    "\n",
    "**Example 1:**\n",
    "\n",
    "$\n",
    "\\begin{align}\n",
    "\\begin{bmatrix}\n",
    "       0 & 0 & 0 \\\\\n",
    "       0 & 0 & 0\n",
    "\\end{bmatrix} \n",
    "\\xrightarrow{}\n",
    "\\begin{bmatrix}\n",
    "       1 & 2 & 1 \\\\\n",
    "       0 & 1 & 0\n",
    "\\end{bmatrix}\n",
    "\\xrightarrow{}\n",
    "\\begin{bmatrix}\n",
    "       1 & 3 & 1 \\\\\n",
    "       1 & 3 & 1\n",
    "\\end{bmatrix}\n",
    "\\end{align}\n",
    "$"
   ]
  },
  {
   "cell_type": "markdown",
   "metadata": {},
   "source": [
    "**Input:** n = 2, m = 3, indices = [[0,1],[1,1]] <br>\n",
    "**Output:** 6\n",
    "\n",
    "**Explanation:**<br>\n",
    "Initial matrix = [[0,0,0],[0,0,0]].<br>\n",
    "After applying first increment it becomes [[1,2,1],[0,1,0]].<br>\n",
    "The final matrix will be [[1,3,1],[1,3,1]] which contains 6 odd numbers.<br>\n",
    "<br>\n",
    "\n",
    "**Example 2:**"
   ]
  },
  {
   "cell_type": "markdown",
   "metadata": {},
   "source": [
    "$\n",
    "\\begin{align}\n",
    " \\begin{bmatrix}\n",
    "       0 & 0  \\\\\n",
    "       0 & 0 \n",
    " \\end{bmatrix} \n",
    " \\xrightarrow{}\n",
    " \\begin{bmatrix}\n",
    "       0 & 1 \\\\\n",
    "       1 & 2\n",
    " \\end{bmatrix}\n",
    " \\xrightarrow{}\n",
    " \\begin{bmatrix}\n",
    "       2 & 2 \\\\\n",
    "       2 & 2\n",
    " \\end{bmatrix}\n",
    "\\end{align}\n",
    "$"
   ]
  },
  {
   "cell_type": "markdown",
   "metadata": {},
   "source": [
    "**Input:** n = 2, m = 2, indices = [[1,1],[0,0]]<br>\n",
    "**Output:** 0<br>\n",
    "\n",
    "**Explanation:**<br>\n",
    "Final matrix = [[2,2],[2,2]]. There is no odd number in the final matrix.\n",
    "\n",
    "**Constraints:**\n",
    " - 1 <= n <= 50\n",
    " - 1 <= m <= 50\n",
    " - 1 <= indices.length <= 100\n",
    " - 0 <= indices[i][0] < n\n",
    " - 0 <= indices[i][1] < m"
   ]
  },
  {
   "cell_type": "markdown",
   "metadata": {},
   "source": [
    "**Solution 1:**"
   ]
  },
  {
   "cell_type": "code",
   "execution_count": 29,
   "metadata": {},
   "outputs": [],
   "source": [
    "def oddCells(n, m, indices) -> int:\n",
    "        \n",
    "    import numpy as np\n",
    "        \n",
    "    A = np.zeros((n,m))    # construct matrix with n rows and m columns of zeros\n",
    "    # or without numpy:\n",
    "    # A = [[0 for x in range(cols)] for y in range(rows)]\n",
    "        \n",
    "    for idx in indices:    # loop through index pairs in indices\n",
    "        A[idx[0]] += 1     # Add one to entire matrix row matching that in the index pair\n",
    "        A[:,idx[1]] += 1   # Add one to entire matrix column matching that in the index pair\n",
    "        \n",
    "    odds = 0                        # instantiate summing variable\n",
    "    for i in range(len(A)):         # loop through rows in matrix A\n",
    "        for j in range(len(A[0])):  # loop through cols in matrix A\n",
    "            if A[i][j] % 2 != 0:    # if cell value is odd\n",
    "                odds += 1           # add 1\n",
    "        \n",
    "    return odds, A"
   ]
  },
  {
   "cell_type": "code",
   "execution_count": 33,
   "metadata": {},
   "outputs": [
    {
     "data": {
      "text/plain": [
       "(6, array([[1., 3., 1.],\n",
       "        [1., 3., 1.]]))"
      ]
     },
     "execution_count": 33,
     "metadata": {},
     "output_type": "execute_result"
    }
   ],
   "source": [
    "odds, A = oddCells(2, 3, [[0,1],[1,1]])\n",
    "odds, A"
   ]
  },
  {
   "cell_type": "markdown",
   "metadata": {},
   "source": [
    "**Solution 2:**<br>\n",
    "(using lists, without numpy)"
   ]
  },
  {
   "cell_type": "code",
   "execution_count": 60,
   "metadata": {},
   "outputs": [],
   "source": [
    "def oddCells(n, m, indices) -> int:\n",
    "    \n",
    "    rows, cols = n, m\n",
    "    \n",
    "    A = [[0 for x in range(cols)] for y in range(rows)]\n",
    "        \n",
    "    for idx in indices:             # loop through index pairs in indices\n",
    "        for j in range(cols):  # loop through matrix A columns\n",
    "            A[idx[0]][j] += 1       # Add one to entire matrix row matching that in the index pair\n",
    "        for i in range(rows):     # loop through matrix A rows\n",
    "            A[i][idx[1]] += 1       # Add one to entire column matching that in the index pair\n",
    "               \n",
    "    odds = 0                        # instantiate summing variable\n",
    "    for i in range(rows):         # loop through rows in matrix A\n",
    "        for j in range(cols):  # loop through cols in matrix A\n",
    "            if A[i][j] % 2 != 0:    # if cell value is odd\n",
    "                odds += 1\n",
    "        \n",
    "    return odds, A"
   ]
  },
  {
   "cell_type": "code",
   "execution_count": 62,
   "metadata": {},
   "outputs": [
    {
     "data": {
      "text/plain": [
       "(6, [[1, 3, 1], [1, 3, 1]])"
      ]
     },
     "execution_count": 62,
     "metadata": {},
     "output_type": "execute_result"
    }
   ],
   "source": [
    "odds, A = oddCells(2, 3, [[0,1],[1,1]])\n",
    "odds, A"
   ]
  },
  {
   "cell_type": "markdown",
   "metadata": {},
   "source": [
    "**Testing:**\n",
    "<br>\n",
    "testing solution 2"
   ]
  },
  {
   "cell_type": "code",
   "execution_count": 36,
   "metadata": {},
   "outputs": [],
   "source": [
    "n = 2\n",
    "m = 3\n",
    "indices = [[0,1],[1,1]]"
   ]
  },
  {
   "cell_type": "code",
   "execution_count": 37,
   "metadata": {},
   "outputs": [],
   "source": [
    "A = [[0 for x in range(m)] for y in range(n)]\n",
    "        \n",
    "for idx in indices:             # loop through index pairs in indices\n",
    "    for j in range(len(A[0])):  # loop through matrix A columns\n",
    "        A[idx[0]][j] += 1       # Add one to entire matrix row matching that in the index pair\n",
    "    for i in range(len(A)):     # loop through matrix A rows\n",
    "        A[i][idx[1]] += 1       # Add one to entire column matching that in the index pair\n",
    "               \n",
    "odds = 0                        # instantiate summing variable\n",
    "for i in range(len(A)):         # loop through rows in matrix A\n",
    "    for j in range(len(A[0])):  # loop through cols in matrix A\n",
    "        if A[i][j] % 2 != 0:    # if cell value is odd\n",
    "            odds += 1   \n"
   ]
  },
  {
   "cell_type": "code",
   "execution_count": 39,
   "metadata": {},
   "outputs": [
    {
     "data": {
      "text/plain": [
       "([[1, 3, 1], [1, 3, 1]], 6)"
      ]
     },
     "execution_count": 39,
     "metadata": {},
     "output_type": "execute_result"
    }
   ],
   "source": [
    "A, odds"
   ]
  },
  {
   "cell_type": "code",
   "execution_count": 42,
   "metadata": {},
   "outputs": [
    {
     "data": {
      "text/plain": [
       "[0, 1]"
      ]
     },
     "execution_count": 42,
     "metadata": {},
     "output_type": "execute_result"
    }
   ],
   "source": [
    "indices[0]"
   ]
  },
  {
   "cell_type": "code",
   "execution_count": 43,
   "metadata": {},
   "outputs": [],
   "source": [
    "row_idx, col_idx = indices[0]"
   ]
  },
  {
   "cell_type": "code",
   "execution_count": 44,
   "metadata": {},
   "outputs": [
    {
     "data": {
      "text/plain": [
       "0"
      ]
     },
     "execution_count": 44,
     "metadata": {},
     "output_type": "execute_result"
    }
   ],
   "source": [
    "row_idx"
   ]
  },
  {
   "cell_type": "code",
   "execution_count": 45,
   "metadata": {},
   "outputs": [],
   "source": [
    "rows_flag = [0]*n"
   ]
  },
  {
   "cell_type": "code",
   "execution_count": 46,
   "metadata": {},
   "outputs": [
    {
     "data": {
      "text/plain": [
       "[0, 0]"
      ]
     },
     "execution_count": 46,
     "metadata": {},
     "output_type": "execute_result"
    }
   ],
   "source": [
    "rows_flag"
   ]
  },
  {
   "cell_type": "code",
   "execution_count": 53,
   "metadata": {},
   "outputs": [
    {
     "data": {
      "text/plain": [
       "3"
      ]
     },
     "execution_count": 53,
     "metadata": {},
     "output_type": "execute_result"
    }
   ],
   "source": [
    "rows_flag[row_idx] + 1"
   ]
  },
  {
   "cell_type": "code",
   "execution_count": 52,
   "metadata": {},
   "outputs": [
    {
     "data": {
      "text/plain": [
       "[2, 0]"
      ]
     },
     "execution_count": 52,
     "metadata": {},
     "output_type": "execute_result"
    }
   ],
   "source": [
    "rows_flag"
   ]
  },
  {
   "cell_type": "code",
   "execution_count": 49,
   "metadata": {},
   "outputs": [],
   "source": [
    "rows_flag[row_idx] += 1"
   ]
  },
  {
   "cell_type": "code",
   "execution_count": 50,
   "metadata": {},
   "outputs": [
    {
     "data": {
      "text/plain": [
       "[2, 0]"
      ]
     },
     "execution_count": 50,
     "metadata": {},
     "output_type": "execute_result"
    }
   ],
   "source": [
    "rows_flag"
   ]
  },
  {
   "cell_type": "code",
   "execution_count": 54,
   "metadata": {},
   "outputs": [
    {
     "data": {
      "text/plain": [
       "[[0, 1], [1, 1]]"
      ]
     },
     "execution_count": 54,
     "metadata": {},
     "output_type": "execute_result"
    }
   ],
   "source": [
    "indices"
   ]
  },
  {
   "cell_type": "code",
   "execution_count": 55,
   "metadata": {},
   "outputs": [
    {
     "name": "stdout",
     "output_type": "stream",
     "text": [
      "x = 0\n",
      "y = 1\n",
      "x = 1\n",
      "y = 1\n"
     ]
    }
   ],
   "source": [
    "for x, y in indices: \n",
    "    print(f'x = {x}')\n",
    "    print(f'y = {y}')"
   ]
  },
  {
   "cell_type": "code",
   "execution_count": null,
   "metadata": {},
   "outputs": [],
   "source": []
  }
 ],
 "metadata": {
  "kernelspec": {
   "display_name": "Python 3",
   "language": "python",
   "name": "python3"
  },
  "language_info": {
   "codemirror_mode": {
    "name": "ipython",
    "version": 3
   },
   "file_extension": ".py",
   "mimetype": "text/x-python",
   "name": "python",
   "nbconvert_exporter": "python",
   "pygments_lexer": "ipython3",
   "version": "3.7.6"
  }
 },
 "nbformat": 4,
 "nbformat_minor": 2
}
