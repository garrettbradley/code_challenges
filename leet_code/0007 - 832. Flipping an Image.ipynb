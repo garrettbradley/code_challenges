{
 "cells": [
  {
   "cell_type": "markdown",
   "metadata": {},
   "source": [
    "## 0007 - 832. Flipping an Image"
   ]
  },
  {
   "cell_type": "markdown",
   "metadata": {},
   "source": [
    "https://leetcode.com/problems/flipping-an-image/"
   ]
  },
  {
   "cell_type": "markdown",
   "metadata": {},
   "source": [
    "Given a binary matrix A, we want to flip the image horizontally, then invert it, and return the resulting image.\n",
    "\n",
    "To flip an image horizontally means that each row of the image is reversed.<br>\n",
    "For example, flipping [1, 1, 0] horizontally results in [0, 1, 1].<br>\n",
    "<br>\n",
    "To invert an image means that each 0 is replaced by 1, and each 1 is replaced by 0.<br>\n",
    "For example, inverting [0, 1, 1] results in [1, 0, 0].<br>\n",
    "<br>\n",
    "<br>\n",
    "**Example 1:**<br>\n",
    "<br>\n",
    "Input: [[1,1,0],[1,0,1],[0,0,0]]<br>\n",
    "Output: [[1,0,0],[0,1,0],[1,1,1]]<br>\n",
    "\n",
    "Explanation: First reverse each row: [[0,1,1],[1,0,1],[0,0,0]].<br>\n",
    "Then, invert the image: [[1,0,0],[0,1,0],[1,1,1]]<br>\n",
    "<br>\n",
    "<br>\n",
    "**Example 2:<br>**\n",
    "<br>\n",
    "Input: [[1,1,0,0],[1,0,0,1],[0,1,1,1],[1,0,1,0]]<br>\n",
    "Output: [[1,1,0,0],[0,1,1,0],[0,0,0,1],[1,0,1,0]]<br>\n",
    "<br>\n",
    "Explanation: First reverse each row: [[0,0,1,1],[1,0,0,1],[1,1,1,0],[0,1,0,1]].<br>\n",
    "Then invert the image: [[1,1,0,0],[0,1,1,0],[0,0,0,1],[1,0,1,0]]<br>\n",
    "<br>\n",
    "Notes:<br>\n",
    "<br>\n",
    "1 <= A.length = A[0].length <= 20<br>\n",
    "0 <= A[i][j] <= 1"
   ]
  },
  {
   "cell_type": "markdown",
   "metadata": {},
   "source": [
    "### Solution 1:\n",
    "nested for loops"
   ]
  },
  {
   "cell_type": "code",
   "execution_count": 86,
   "metadata": {},
   "outputs": [],
   "source": [
    "A = [[1,1,0],[1,0,1],[0,0,0]]\n",
    "A2 = [[1,1,0,0],[1,0,0,1],[0,1,1,1],[1,0,1,0]]"
   ]
  },
  {
   "cell_type": "code",
   "execution_count": 89,
   "metadata": {},
   "outputs": [],
   "source": [
    "def flip_image(A):\n",
    "    B = []\n",
    "    \n",
    "    for i, row in enumerate(A):\n",
    "        A[i] = row[::-1]\n",
    "        B.append(row[::-1])\n",
    "        \n",
    "        for j, elem in enumerate(A[i]):\n",
    "            \n",
    "            A[i][j] = 0 if elem else 1\n",
    "            #print(A[i][j])\n",
    "            #B[i].append(1) if elem == 0 else B[i].append(0)\n",
    "    #print (f'B = {B}')\n",
    "    print (f'A = {A}')\n",
    "    print (f'A Output is: [[1,1,0],[1,0,1],[0,0,0]]')\n",
    "    #print (f'A2 Output is: [[1,1,0,0],[1,0,0,1],[0,1,1,1],[1,0,1,0]]')\n",
    "    "
   ]
  },
  {
   "cell_type": "code",
   "execution_count": 35,
   "metadata": {},
   "outputs": [
    {
     "name": "stdout",
     "output_type": "stream",
     "text": [
      "B = [[0, 1, 1], [1, 0, 1], [0, 0, 0]]\n",
      "A = [[0, 1, 1], [1, 0, 1], [0, 0, 0]]\n"
     ]
    }
   ],
   "source": [
    "# First loop - reversed rows\n",
    "flip_image(A)"
   ]
  },
  {
   "cell_type": "code",
   "execution_count": 88,
   "metadata": {},
   "outputs": [
    {
     "name": "stdout",
     "output_type": "stream",
     "text": [
      "B = [[0, 1, 1, 1, 0, 0], [1, 0, 1, 0, 1, 0], [0, 0, 0, 1, 1, 1]]\n",
      "A = [[1, 0, 0], [0, 1, 0], [1, 1, 1]]\n",
      "A Output is: [[1,1,0],[1,0,1],[0,0,0]]\n"
     ]
    }
   ],
   "source": [
    "# Second loop - invert image by switching 1 and zero\n",
    "flip_image(A)"
   ]
  },
  {
   "cell_type": "code",
   "execution_count": 76,
   "metadata": {},
   "outputs": [
    {
     "name": "stdout",
     "output_type": "stream",
     "text": [
      "A = [[1, 1, 0, 0], [1, 0, 0, 1], [0, 1, 1, 1], [1, 0, 1, 0]]\n",
      "A2 Output is: [[1,1,0,0],[1,0,0,1],[0,1,1,1],[1,0,1,0]]\n"
     ]
    }
   ],
   "source": [
    "# A2\n",
    "flip_image(A2)"
   ]
  },
  {
   "cell_type": "markdown",
   "metadata": {},
   "source": [
    "### Solution 2: \n",
    "nested list comprehension"
   ]
  },
  {
   "cell_type": "code",
   "execution_count": 91,
   "metadata": {},
   "outputs": [],
   "source": [
    "A = [[1,1,0],[1,0,1],[0,0,0]]\n",
    "A2 = [[1,1,0,0],[1,0,0,1],[0,1,1,1],[1,0,1,0]]"
   ]
  },
  {
   "cell_type": "code",
   "execution_count": 92,
   "metadata": {},
   "outputs": [],
   "source": [
    "def flip_image(A):\n",
    "    \n",
    "    A = [row[::-1] for row in A]\n",
    "    A = [[0 if elem else 1 for elem in row] for row in A]\n",
    "    \n",
    "    #print(A)\n",
    "    return A"
   ]
  },
  {
   "cell_type": "code",
   "execution_count": 93,
   "metadata": {},
   "outputs": [
    {
     "name": "stdout",
     "output_type": "stream",
     "text": [
      "[[1, 0, 0], [0, 1, 0], [1, 1, 1]]\n"
     ]
    }
   ],
   "source": [
    "flip_image(A)"
   ]
  },
  {
   "cell_type": "code",
   "execution_count": null,
   "metadata": {},
   "outputs": [],
   "source": [
    "def flip_image(A):\n",
    "    \n",
    "    A = [row[::-1] for row in A]\n",
    "    A = [[0 if elem else 1 for elem in row] for row in A]\n",
    "    \n",
    "    print(A)\n",
    "    "
   ]
  },
  {
   "cell_type": "markdown",
   "metadata": {},
   "source": [
    "### Solution 3: \n",
    "map and filter"
   ]
  },
  {
   "cell_type": "code",
   "execution_count": 111,
   "metadata": {},
   "outputs": [],
   "source": [
    "A3 = [0,0,1,1,0]\n",
    "A = [[1,1,0],[1,0,1],[0,0,0]]\n",
    "A2 = [[1,1,0,0],[1,0,0,1],[0,1,1,1],[1,0,1,0]]"
   ]
  },
  {
   "cell_type": "code",
   "execution_count": 109,
   "metadata": {},
   "outputs": [],
   "source": [
    "def flip_image(A):\n",
    "  \n",
    "    C = list(map(lambda y: y[::-1], A))\n",
    "    \n",
    "    Convert Single List to \n",
    "    B = list(map(lambda x: 0 if x else 1, A))\n",
    "   \n",
    "    \n",
    "    #A = [row[::-1] for row in A]\n",
    "    #A = [[0 if elem else 1 for elem in row] for row in A]\n",
    "    \n",
    "    print(f'B = {B} )\n",
    "    "
   ]
  },
  {
   "cell_type": "code",
   "execution_count": 110,
   "metadata": {},
   "outputs": [
    {
     "name": "stdout",
     "output_type": "stream",
     "text": [
      "[1, 1, 0, 0, 1]\n"
     ]
    }
   ],
   "source": [
    "flip_image(A3)"
   ]
  },
  {
   "cell_type": "code",
   "execution_count": 112,
   "metadata": {},
   "outputs": [
    {
     "data": {
      "text/plain": [
       "[0, 0, 1, 1, 0]"
      ]
     },
     "execution_count": 112,
     "metadata": {},
     "output_type": "execute_result"
    }
   ],
   "source": [
    "A3"
   ]
  },
  {
   "cell_type": "markdown",
   "metadata": {},
   "source": [
    "### Solution 4:"
   ]
  },
  {
   "cell_type": "code",
   "execution_count": 118,
   "metadata": {},
   "outputs": [],
   "source": [
    "def flip_image(A):\n",
    "  \n",
    "    B = [[0 if elem else 1 for elem in row[::-1]] for row in A]\n",
    " \n",
    "    return B"
   ]
  },
  {
   "cell_type": "code",
   "execution_count": null,
   "metadata": {},
   "outputs": [],
   "source": []
  }
 ],
 "metadata": {
  "kernelspec": {
   "display_name": "Python 3",
   "language": "python",
   "name": "python3"
  },
  "language_info": {
   "codemirror_mode": {
    "name": "ipython",
    "version": 3
   },
   "file_extension": ".py",
   "mimetype": "text/x-python",
   "name": "python",
   "nbconvert_exporter": "python",
   "pygments_lexer": "ipython3",
   "version": "3.7.6"
  }
 },
 "nbformat": 4,
 "nbformat_minor": 2
}
