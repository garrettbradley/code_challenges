{
 "cells": [
  {
   "cell_type": "markdown",
   "metadata": {},
   "source": [
    "### Minimum Time Visiting All Points"
   ]
  },
  {
   "cell_type": "markdown",
   "metadata": {},
   "source": [
    "1266. Minimum Time Visiting All Points\n",
    "\n",
    " - Easy\n",
    "\n",
    "On a plane there are n points with integer coordinates points[i] = [xi, yi]. Your task is to find the minimum time in seconds to visit all points.\n",
    "\n",
    "You can move according to the next rules:\n",
    "\n",
    "In one second always you can either move vertically, horizontally by one unit or diagonally (it means to move one unit vertically and one unit horizontally in one second).\n",
    "You have to visit the points in the same order as they appear in the array.\n",
    " \n",
    "\n",
    "#### Example 1:\n",
    "\n",
    "![Travel Path Diagram](../images/min_time_points.png)\n",
    "\n",
    "Input: points = [[1,1],[3,4],[-1,0]] <br>\n",
    "Output: 7\n",
    "\n",
    "#### Explanation: \n",
    "One optimal path is **[1,1]** -> [2,2] -> [3,3] -> **[3,4]** -> [2,3] -> [1,2] -> [0,1] -> **[-1,0]** <br>\n",
    "Time from [1,1] to [3,4] = 3 seconds <br>\n",
    "Time from [3,4] to [-1,0] = 4 seconds <br>\n",
    "Total time = 7 seconds\n",
    "Example 2:\n",
    "\n",
    "Input: points = [[3,2],[-2,2]]\n",
    "Output: 5\n",
    " \n",
    "\n",
    "Constraints: <br>\n",
    " - points.length == n\n",
    " - 1 <= n <= 100\n",
    " - points[i].length == 2\n",
    " - -1000 <= points[i][0], points[i][1] <= 1000\n",
    "\n"
   ]
  },
  {
   "cell_type": "markdown",
   "metadata": {},
   "source": [
    "#### Solution:"
   ]
  },
  {
   "cell_type": "code",
   "execution_count": null,
   "metadata": {},
   "outputs": [],
   "source": [
    "class Solution:\n",
    "    def minTimeToVisitAllPoints(self, points: List[List[int]]) -> int:\n",
    "        \n",
    "        dist = 0\n",
    "        for i in range(1,len(points)):\n",
    "            x = abs(points[i][0] - points[i-1][0])\n",
    "            y = abs(points[i][1] - points[i-1][1])\n",
    " \n",
    "            if x == y: \n",
    "                dist += x\n",
    "            elif x > y: \n",
    "                dist += x \n",
    "            else: \n",
    "                dist += y \n",
    "                \n",
    "        return dist"
   ]
  },
  {
   "cell_type": "code",
   "execution_count": 21,
   "metadata": {},
   "outputs": [],
   "source": [
    "points = [[1,1], [3,4], [-1,0]]"
   ]
  },
  {
   "cell_type": "code",
   "execution_count": 22,
   "metadata": {},
   "outputs": [],
   "source": [
    "points2 = [[3,2],[-2,2]]"
   ]
  },
  {
   "cell_type": "markdown",
   "metadata": {},
   "source": [
    "#### Testing: "
   ]
  },
  {
   "cell_type": "code",
   "execution_count": 19,
   "metadata": {},
   "outputs": [
    {
     "name": "stdout",
     "output_type": "stream",
     "text": [
      "point is [-2, 2]\n",
      "x equals: 5\n",
      "y equals: 0\n"
     ]
    }
   ],
   "source": [
    "\n",
    "dist = 0\n",
    "        \n",
    "for i in range(1,len(points)):\n",
    "    \n",
    "    print(f'point is {points[i]}')\n",
    "          \n",
    "    x = abs(points[i][0] - points[i-1][0])\n",
    "    print(f'x equals: {x}')\n",
    "          \n",
    "    y = abs(points[i][1] - points[i-1][1])\n",
    "    print(f'y equals: {y}')\n",
    "    \n",
    "    if x == y: \n",
    "        dist += x\n",
    "        print(f'dist equals: {x}')\n",
    "    \n",
    "    elif x > y: \n",
    "        dist += x \n",
    "    \n",
    "    else: \n",
    "        dist += y \n",
    "      \n",
    "        \n",
    "    "
   ]
  },
  {
   "cell_type": "code",
   "execution_count": 20,
   "metadata": {},
   "outputs": [
    {
     "data": {
      "text/plain": [
       "5"
      ]
     },
     "execution_count": 20,
     "metadata": {},
     "output_type": "execute_result"
    }
   ],
   "source": [
    "dist\n"
   ]
  },
  {
   "cell_type": "markdown",
   "metadata": {},
   "source": [
    "#### Solution 2: "
   ]
  },
  {
   "cell_type": "code",
   "execution_count": null,
   "metadata": {},
   "outputs": [],
   "source": [
    "class Solution:\n",
    "    def minTimeToVisitAllPoints(self, points: List[List[int]]) -> int:\n",
    "        \n",
    "        dist = 0\n",
    "        for i in range(len(points)+1):\n",
    "            x = abs(points[i][0] - points[i+1][0])\n",
    "            y = abs(points[i][1] - points[i+1][1])\n",
    "             \n",
    "            dist += max(x, y)\n",
    "        return dist"
   ]
  },
  {
   "cell_type": "code",
   "execution_count": 24,
   "metadata": {},
   "outputs": [
    {
     "data": {
      "text/plain": [
       "7"
      ]
     },
     "execution_count": 24,
     "metadata": {},
     "output_type": "execute_result"
    }
   ],
   "source": [
    "dist = 0\n",
    "for i in range(len(points)+1):\n",
    "    x = abs(points[i][0] - points[i+11][0])\n",
    "    y = abs(points[i][1] - points[i+11][1])\n",
    "             \n",
    "    dist += max(x, y)\n",
    "dist"
   ]
  },
  {
   "cell_type": "markdown",
   "metadata": {},
   "source": [
    "#### Solution 3:"
   ]
  },
  {
   "cell_type": "code",
   "execution_count": 28,
   "metadata": {},
   "outputs": [],
   "source": [
    "def minTimeToVisitAllPoints(self, points):\n",
    "    \n",
    "    time = 0\n",
    "    pos = points[0]\n",
    "    \n",
    "    for point in points[1:]:\n",
    "        time += max(abs(pos[0] - point[0]), abs(pos[1] - point[1]))\n",
    "        pos = point\n",
    "        \n",
    "    return time"
   ]
  },
  {
   "cell_type": "code",
   "execution_count": 30,
   "metadata": {},
   "outputs": [
    {
     "data": {
      "text/plain": [
       "7"
      ]
     },
     "execution_count": 30,
     "metadata": {},
     "output_type": "execute_result"
    }
   ],
   "source": [
    "time = 0\n",
    "pos = points[0]\n",
    "    \n",
    "for point in points[1:]:\n",
    "    time += max(abs(pos[0] - point[0]), abs(pos[1] - point[1]))\n",
    "    pos = point\n",
    "    \n",
    "time"
   ]
  },
  {
   "cell_type": "code",
   "execution_count": null,
   "metadata": {},
   "outputs": [],
   "source": []
  }
 ],
 "metadata": {
  "kernelspec": {
   "display_name": "Python 3",
   "language": "python",
   "name": "python3"
  },
  "language_info": {
   "codemirror_mode": {
    "name": "ipython",
    "version": 3
   },
   "file_extension": ".py",
   "mimetype": "text/x-python",
   "name": "python",
   "nbconvert_exporter": "python",
   "pygments_lexer": "ipython3",
   "version": "3.7.5"
  }
 },
 "nbformat": 4,
 "nbformat_minor": 2
}
