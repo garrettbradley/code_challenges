{
 "cells": [
  {
   "cell_type": "markdown",
   "metadata": {},
   "source": [
    "## 412. FizzBuzz"
   ]
  },
  {
   "cell_type": "markdown",
   "metadata": {},
   "source": [
    "Write a program that outputs the string representation of numbers from 1 to n.\n",
    "\n",
    "But for multiples of three it should output “Fizz” instead of the number and for the multiples of five output “Buzz”. For numbers which are multiples of both three and five output “FizzBuzz”."
   ]
  },
  {
   "cell_type": "markdown",
   "metadata": {},
   "source": [
    "**Solution 1:**"
   ]
  },
  {
   "cell_type": "code",
   "execution_count": 3,
   "metadata": {},
   "outputs": [],
   "source": [
    "def fizzBuzz(self, n):\n",
    "        \"\"\"\n",
    "        :type n: int\n",
    "        :rtype: List[str]\n",
    "        \"\"\"\n",
    "        res = []\n",
    "        for i in range(1,n+1):\n",
    "            if i % 3 == 0 and i % 5 == 0:\n",
    "                res.append(\"FizzBuzz\")\n",
    "            elif i % 3 == 0:\n",
    "                res.append(\"Fizz\")\n",
    "            elif i % 5 == 0:\n",
    "                res.append(\"Buzz\")\n",
    "            else:\n",
    "                res.append(str(i))\n",
    "        return res"
   ]
  },
  {
   "cell_type": "markdown",
   "metadata": {},
   "source": [
    "**Solution 2:**"
   ]
  },
  {
   "cell_type": "code",
   "execution_count": 2,
   "metadata": {},
   "outputs": [],
   "source": [
    "def fizzBuzz(self, n):\n",
    "    return [\"Fizz\"*(not i%3) + \"Buzz\"*(not i%5) or str(i) for i in range(1,n+1)]"
   ]
  },
  {
   "cell_type": "markdown",
   "metadata": {},
   "source": [
    "**Solution 3:**"
   ]
  },
  {
   "cell_type": "code",
   "execution_count": null,
   "metadata": {},
   "outputs": [],
   "source": [
    "def fizzBuzz(self, n: int) -> List[str]:\n",
    "        res = []\n",
    "        for i in range(1, n + 1):\n",
    "            if i % 3 == 0 or i % 5 == 0:\n",
    "                if i % 3 == 0 and i % 5 == 0:\n",
    "                    res.append('FizzBuzz')\n",
    "                    continue\n",
    "                else:\n",
    "                    if i % 3 == 0:\n",
    "                        res.append('Fizz')\n",
    "                        continue\n",
    "                    else:\n",
    "                        res.append('Buzz')\n",
    "                        continue\n",
    "            else:\n",
    "                res.append(str(i))\n",
    "        return res"
   ]
  }
 ],
 "metadata": {
  "kernelspec": {
   "display_name": "Python 3",
   "language": "python",
   "name": "python3"
  },
  "language_info": {
   "codemirror_mode": {
    "name": "ipython",
    "version": 3
   },
   "file_extension": ".py",
   "mimetype": "text/x-python",
   "name": "python",
   "nbconvert_exporter": "python",
   "pygments_lexer": "ipython3",
   "version": "3.7.6"
  }
 },
 "nbformat": 4,
 "nbformat_minor": 2
}
