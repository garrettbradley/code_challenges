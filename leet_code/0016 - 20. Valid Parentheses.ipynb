{
 "cells": [
  {
   "cell_type": "markdown",
   "metadata": {},
   "source": [
    "## 0016 - 20. Valid Parentheses"
   ]
  },
  {
   "cell_type": "markdown",
   "metadata": {},
   "source": [
    "Given a string containing just the characters '(', ')', '{', '}', '[' and ']', determine if the input string is valid.\n",
    "\n",
    "An input string is valid if:\n",
    "\n",
    "1. Open brackets must be closed by the same type of brackets.\n",
    "2. Open brackets must be closed in the correct order.\n",
    "\n",
    "Note that an empty string is also considered valid.\n",
    "\n",
    "**Example 1:**\n",
    "\n",
    "Input: \"()\"<br>\n",
    "Output: true\n",
    "    \n",
    "**Example 2:**\n",
    "\n",
    "Input: \"()[]{}\"<br>\n",
    "Output: true\n",
    "    \n",
    "**Example 3:**\n",
    "\n",
    "Input: \"(]\"<br>\n",
    "Output: false\n",
    "    \n",
    "**Example 4:**\n",
    "\n",
    "Input: \"([)]\"<br>\n",
    "Output: false\n",
    "    \n",
    "**Example 5:**\n",
    "\n",
    "Input: \"{[]}\"<br>\n",
    "Output: true"
   ]
  },
  {
   "cell_type": "code",
   "execution_count": 11,
   "metadata": {},
   "outputs": [],
   "source": [
    "input_1 = '()'\n",
    "input_2 = '()[]{}'\n",
    "input_3 = '(]'\n",
    "input_4 = '([)]'\n",
    "input_5 = '{[]}'\n",
    "input_6 = \"[([]])\""
   ]
  },
  {
   "cell_type": "markdown",
   "metadata": {},
   "source": [
    "**Solution 1:**\n",
    "stack + dict"
   ]
  },
  {
   "cell_type": "code",
   "execution_count": 43,
   "metadata": {},
   "outputs": [],
   "source": [
    "def valid_parens(s):\n",
    "    close = ')]}'\n",
    "    \n",
    "    # quick validation\n",
    "    if not s or len(s) == 0:\n",
    "        return True\n",
    "    \n",
    "    # odd length of string\n",
    "    if len(s) % 2 != 0:\n",
    "        return False\n",
    "    \n",
    "    # strings begins with closer\n",
    "    if len(s) > 0:\n",
    "        if s[0] in close:\n",
    "            return False\n",
    "        \n",
    "    stack = []\n",
    "    parens = { '(':')', '{':'}', '[':']' }\n",
    "        \n",
    "    for char in s:\n",
    "        # if char an opener\n",
    "        if char in parens:\n",
    "            # append closer to stack\n",
    "            stack.append(parens[char])\n",
    "        \n",
    "        # if char not an opener, and if stack has elements\n",
    "        elif stack:\n",
    "            # pop last element, store in expected variable\n",
    "            expected_parens = stack.pop()\n",
    "          \n",
    "            # check if expected_parens is current char\n",
    "            if expected_parens != char:\n",
    "                # incorrect parens\n",
    "                return False\n",
    "        \n",
    "    # check if stack empty\n",
    "    if len(stack) == 0:\n",
    "        return True\n",
    "    else:\n",
    "        return False\n"
   ]
  },
  {
   "cell_type": "code",
   "execution_count": 44,
   "metadata": {},
   "outputs": [
    {
     "data": {
      "text/plain": [
       "True"
      ]
     },
     "execution_count": 44,
     "metadata": {},
     "output_type": "execute_result"
    }
   ],
   "source": [
    "valid_parens(input_1)"
   ]
  },
  {
   "cell_type": "code",
   "execution_count": 45,
   "metadata": {},
   "outputs": [
    {
     "data": {
      "text/plain": [
       "True"
      ]
     },
     "execution_count": 45,
     "metadata": {},
     "output_type": "execute_result"
    }
   ],
   "source": [
    "valid_parens(input_2)"
   ]
  },
  {
   "cell_type": "code",
   "execution_count": 46,
   "metadata": {},
   "outputs": [
    {
     "data": {
      "text/plain": [
       "False"
      ]
     },
     "execution_count": 46,
     "metadata": {},
     "output_type": "execute_result"
    }
   ],
   "source": [
    "valid_parens(input_3)"
   ]
  },
  {
   "cell_type": "code",
   "execution_count": 47,
   "metadata": {},
   "outputs": [
    {
     "data": {
      "text/plain": [
       "False"
      ]
     },
     "execution_count": 47,
     "metadata": {},
     "output_type": "execute_result"
    }
   ],
   "source": [
    "valid_parens(input_4)"
   ]
  },
  {
   "cell_type": "code",
   "execution_count": 48,
   "metadata": {},
   "outputs": [
    {
     "data": {
      "text/plain": [
       "True"
      ]
     },
     "execution_count": 48,
     "metadata": {},
     "output_type": "execute_result"
    }
   ],
   "source": [
    "valid_parens(input_5)"
   ]
  },
  {
   "cell_type": "code",
   "execution_count": 49,
   "metadata": {},
   "outputs": [
    {
     "data": {
      "text/plain": [
       "False"
      ]
     },
     "execution_count": 49,
     "metadata": {},
     "output_type": "execute_result"
    }
   ],
   "source": [
    "valid_parens(input_6)"
   ]
  },
  {
   "cell_type": "markdown",
   "metadata": {},
   "source": [
    "**Solution 2:**<br>\n",
    "(cannot solve for input_6)"
   ]
  },
  {
   "cell_type": "code",
   "execution_count": 4,
   "metadata": {},
   "outputs": [],
   "source": [
    "def valid_parens(s):\n",
    "    parens = '()'\n",
    "    parens_ct = 0\n",
    "    bracks = '[]'\n",
    "    bracks_ct = 0\n",
    "    curls = '{}'\n",
    "    curls_ct = 0\n",
    "    current = ''\n",
    "    d = {}\n",
    "    \n",
    "    opens = '([{'\n",
    "    close = ')]}'\n",
    "    \n",
    "    if len(s) > 0: \n",
    "        if s[0] in close: \n",
    "            return False\n",
    "    else: \n",
    "        return True\n",
    "    \n",
    "    for i,char in enumerate(s): \n",
    "        #d[i] = ()\n",
    "        \n",
    "        # Parens test cases\n",
    "        #if char in parens: \n",
    "            #curr = 'p'\n",
    "            \n",
    "        if char == parens[0]: \n",
    "            parens_ct += 1\n",
    "            current = 'p'\n",
    "            #d[i] = ('p', parens_ct)\n",
    "        elif char == parens[1]:\n",
    "            parens_ct -= 1\n",
    "            #d[i] = ('p', parens_ct)\n",
    "            if parens_ct < 0: \n",
    "                return False\n",
    "            if current != 'p' and s[i-1] not in close: \n",
    "                return False\n",
    "            #if d[i][1] \n",
    "            \n",
    "        # Bracket test cases\n",
    "        elif char == bracks[0]:\n",
    "            bracks_ct += 1\n",
    "            current = 'b'\n",
    "        elif char == bracks[1]:\n",
    "            bracks_ct -= 1\n",
    "            if bracks_ct < 0: \n",
    "                return False\n",
    "            if current != 'b' and s[i-1] not in close: \n",
    "                return False\n",
    "            \n",
    "        # Curls test cases\n",
    "        elif char == curls[0]:\n",
    "            curls_ct += 1\n",
    "            current = 'c'\n",
    "        elif char == curls[1]:\n",
    "            curls_ct -= 1\n",
    "            if curls_ct < 0: \n",
    "                return False\n",
    "            if current != 'c' and s[i-1] not in close: \n",
    "                return False\n",
    "    \n",
    "    if parens_ct != 0 or bracks_ct != 0 or curls_ct != 0: \n",
    "        return False\n",
    "    else: \n",
    "        return True\n",
    "\n",
    "    "
   ]
  },
  {
   "cell_type": "code",
   "execution_count": 6,
   "metadata": {},
   "outputs": [
    {
     "data": {
      "text/plain": [
       "True"
      ]
     },
     "execution_count": 6,
     "metadata": {},
     "output_type": "execute_result"
    }
   ],
   "source": [
    "valid_parens(input_1)"
   ]
  },
  {
   "cell_type": "code",
   "execution_count": 7,
   "metadata": {},
   "outputs": [
    {
     "data": {
      "text/plain": [
       "True"
      ]
     },
     "execution_count": 7,
     "metadata": {},
     "output_type": "execute_result"
    }
   ],
   "source": [
    "valid_parens(input_2)"
   ]
  },
  {
   "cell_type": "code",
   "execution_count": 8,
   "metadata": {},
   "outputs": [
    {
     "data": {
      "text/plain": [
       "False"
      ]
     },
     "execution_count": 8,
     "metadata": {},
     "output_type": "execute_result"
    }
   ],
   "source": [
    "valid_parens(input_3)"
   ]
  },
  {
   "cell_type": "code",
   "execution_count": 9,
   "metadata": {},
   "outputs": [
    {
     "data": {
      "text/plain": [
       "False"
      ]
     },
     "execution_count": 9,
     "metadata": {},
     "output_type": "execute_result"
    }
   ],
   "source": [
    "valid_parens(input_4)"
   ]
  },
  {
   "cell_type": "code",
   "execution_count": 10,
   "metadata": {},
   "outputs": [
    {
     "data": {
      "text/plain": [
       "True"
      ]
     },
     "execution_count": 10,
     "metadata": {},
     "output_type": "execute_result"
    }
   ],
   "source": [
    "valid_parens(input_5)"
   ]
  },
  {
   "cell_type": "code",
   "execution_count": 12,
   "metadata": {},
   "outputs": [
    {
     "data": {
      "text/plain": [
       "True"
      ]
     },
     "execution_count": 12,
     "metadata": {},
     "output_type": "execute_result"
    }
   ],
   "source": [
    "valid_parens(input_6)"
   ]
  }
 ],
 "metadata": {
  "kernelspec": {
   "display_name": "Python 3",
   "language": "python",
   "name": "python3"
  },
  "language_info": {
   "codemirror_mode": {
    "name": "ipython",
    "version": 3
   },
   "file_extension": ".py",
   "mimetype": "text/x-python",
   "name": "python",
   "nbconvert_exporter": "python",
   "pygments_lexer": "ipython3",
   "version": "3.7.6"
  }
 },
 "nbformat": 4,
 "nbformat_minor": 2
}
