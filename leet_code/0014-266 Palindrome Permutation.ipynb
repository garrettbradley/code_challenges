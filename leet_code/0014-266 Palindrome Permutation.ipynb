{
 "cells": [
  {
   "cell_type": "markdown",
   "metadata": {},
   "source": [
    "## 266. Palindrome Permutation"
   ]
  },
  {
   "cell_type": "markdown",
   "metadata": {},
   "source": [
    "Given a string, determine if a permutation of the string could form a palindrome."
   ]
  },
  {
   "cell_type": "markdown",
   "metadata": {},
   "source": [
    "**Example 1:**\n",
    "\n",
    "Input: \"code\"<br>\n",
    "Output: false\n",
    "\n",
    "**Example 2:**\n",
    "\n",
    "Input: \"aab\"<br>\n",
    "Output: true\n",
    "\n",
    "**Example 3:**\n",
    "\n",
    "Input: \"carerac\"<br>\n",
    "Output: true"
   ]
  },
  {
   "cell_type": "markdown",
   "metadata": {},
   "source": [
    "**Solution:**"
   ]
  },
  {
   "cell_type": "markdown",
   "metadata": {},
   "source": [
    "Notes:"
   ]
  },
  {
   "cell_type": "markdown",
   "metadata": {},
   "source": [
    "Identified Rules for palindrome: <br>\n",
    "Even string length: all character counts must be even to form palindrome. <br>\n",
    "Odd string length: exactly one character count must be odd, all other character counts must be even."
   ]
  },
  {
   "cell_type": "code",
   "execution_count": 4,
   "metadata": {},
   "outputs": [],
   "source": [
    "s = 'carerac'\n",
    "d = {}\n",
    "for char in s: \n",
    "    d[char] = d.get(char, 0) +1"
   ]
  },
  {
   "cell_type": "code",
   "execution_count": 5,
   "metadata": {},
   "outputs": [
    {
     "data": {
      "text/plain": [
       "7"
      ]
     },
     "execution_count": 5,
     "metadata": {},
     "output_type": "execute_result"
    }
   ],
   "source": [
    "sum(d.values())"
   ]
  },
  {
   "cell_type": "code",
   "execution_count": 58,
   "metadata": {},
   "outputs": [],
   "source": [
    "input_1 = 'code'\n",
    "input_2 = 'aab'\n",
    "input_3 = 'carerac'\n",
    "input_4 = 'abc'\n",
    "input_5 = ('aabc')"
   ]
  },
  {
   "cell_type": "markdown",
   "metadata": {},
   "source": [
    "**Solution 1:** <br>\n",
    "hash table, odd counter, check counter value separately for even and odd"
   ]
  },
  {
   "cell_type": "code",
   "execution_count": 49,
   "metadata": {},
   "outputs": [],
   "source": [
    "def pal_perm(s): \n",
    "    \n",
    "    # create dictionary char count map\n",
    "    d = {}\n",
    "    for char in s: \n",
    "        d[char] = d.get(char,0) + 1\n",
    "     \n",
    "    # Initialize odd char counter\n",
    "    odd_ct = 0\n",
    "    \n",
    "    # loop through values, check for odd char counts, add 1 if so: \n",
    "    for val in d.values():\n",
    "        if val % 2 != 0: \n",
    "            odd_ct += 1\n",
    "    \n",
    "    # if string is even length: \n",
    "    if len(s) % 2 == 0: \n",
    "    \n",
    "        # check that there are no odd char counts: \n",
    "        if odd_ct > 0: \n",
    "            return False\n",
    "        else: \n",
    "            return True\n",
    "        \n",
    "    # if string is odd length\n",
    "    else:   \n",
    "        \n",
    "    # check that there are no more than one odd char counts\n",
    "        if odd_ct > 1: \n",
    "            return (False, odd_ct, d)\n",
    "        else: \n",
    "            return (True, odd_ct, d)\n",
    "   "
   ]
  },
  {
   "cell_type": "code",
   "execution_count": 50,
   "metadata": {},
   "outputs": [
    {
     "name": "stdout",
     "output_type": "stream",
     "text": [
      "1.1 µs ± 16.4 ns per loop (mean ± std. dev. of 7 runs, 1000000 loops each)\n"
     ]
    }
   ],
   "source": [
    "%%timeit\n",
    "pal_perm(input_1)"
   ]
  },
  {
   "cell_type": "code",
   "execution_count": 51,
   "metadata": {},
   "outputs": [
    {
     "data": {
      "text/plain": [
       "False"
      ]
     },
     "execution_count": 51,
     "metadata": {},
     "output_type": "execute_result"
    }
   ],
   "source": [
    "pal_perm(input_1)"
   ]
  },
  {
   "cell_type": "code",
   "execution_count": 20,
   "metadata": {},
   "outputs": [
    {
     "name": "stdout",
     "output_type": "stream",
     "text": [
      "773 ns ± 32.3 ns per loop (mean ± std. dev. of 7 runs, 1000000 loops each)\n"
     ]
    }
   ],
   "source": [
    "%%timeit\n",
    "pal_perm(input_2)"
   ]
  },
  {
   "cell_type": "code",
   "execution_count": 52,
   "metadata": {},
   "outputs": [
    {
     "data": {
      "text/plain": [
       "(True, 1, {'a': 2, 'b': 1})"
      ]
     },
     "execution_count": 52,
     "metadata": {},
     "output_type": "execute_result"
    }
   ],
   "source": [
    "pal_perm(input_2)"
   ]
  },
  {
   "cell_type": "code",
   "execution_count": 18,
   "metadata": {},
   "outputs": [
    {
     "name": "stdout",
     "output_type": "stream",
     "text": [
      "1.22 µs ± 22.8 ns per loop (mean ± std. dev. of 7 runs, 1000000 loops each)\n"
     ]
    }
   ],
   "source": [
    "%%timeit\n",
    "pal_perm(input_3)"
   ]
  },
  {
   "cell_type": "code",
   "execution_count": 91,
   "metadata": {},
   "outputs": [
    {
     "name": "stdout",
     "output_type": "stream",
     "text": [
      "carerac\n"
     ]
    },
    {
     "data": {
      "text/plain": [
       "(True, 1, {'c': 2, 'a': 2, 'r': 2, 'e': 1})"
      ]
     },
     "execution_count": 91,
     "metadata": {},
     "output_type": "execute_result"
    }
   ],
   "source": [
    "print(input_3)\n",
    "pal_perm(input_3)"
   ]
  },
  {
   "cell_type": "code",
   "execution_count": 54,
   "metadata": {},
   "outputs": [
    {
     "data": {
      "text/plain": [
       "(False, 3, {'a': 1, 'b': 1, 'c': 1})"
      ]
     },
     "execution_count": 54,
     "metadata": {},
     "output_type": "execute_result"
    }
   ],
   "source": [
    "pal_perm('abc')"
   ]
  },
  {
   "cell_type": "code",
   "execution_count": 55,
   "metadata": {},
   "outputs": [
    {
     "data": {
      "text/plain": [
       "False"
      ]
     },
     "execution_count": 55,
     "metadata": {},
     "output_type": "execute_result"
    }
   ],
   "source": [
    "pal_perm('aabc')"
   ]
  },
  {
   "cell_type": "markdown",
   "metadata": {},
   "source": [
    "**Solution 1a:**<br>\n",
    "Check only once for odd counter > 1, for either odd or even length strings"
   ]
  },
  {
   "cell_type": "code",
   "execution_count": 75,
   "metadata": {},
   "outputs": [],
   "source": [
    "def pal_perm1a(s): \n",
    "    \n",
    "    # create dictionary char count map\n",
    "    d = {}\n",
    "    for char in s: \n",
    "        d[char] = d.get(char,0) + 1\n",
    "     \n",
    "    # Initialize odd char counter\n",
    "    odd_ct = 0\n",
    "    \n",
    "    # loop through values, check for odd char counts, add 1 if so: \n",
    "    for val in d.values():\n",
    "        if val % 2 != 0: \n",
    "            odd_ct += 1\n",
    "    \n",
    "    # note, for even length strings, we should have zero, odd counts, \\\n",
    "    # but we will only have increments of 2, therefore we can test if odd_count greater than 1 \\\n",
    "    # for both even and odd length strings\n",
    "    \n",
    "    if odd_ct > 1: \n",
    "        return False\n",
    "    else: \n",
    "        return True\n",
    "    "
   ]
  },
  {
   "cell_type": "code",
   "execution_count": null,
   "metadata": {},
   "outputs": [],
   "source": [
    "count = 2"
   ]
  },
  {
   "cell_type": "code",
   "execution_count": null,
   "metadata": {},
   "outputs": [],
   "source": []
  },
  {
   "cell_type": "code",
   "execution_count": 76,
   "metadata": {},
   "outputs": [
    {
     "name": "stdout",
     "output_type": "stream",
     "text": [
      "code\n"
     ]
    },
    {
     "data": {
      "text/plain": [
       "False"
      ]
     },
     "execution_count": 76,
     "metadata": {},
     "output_type": "execute_result"
    }
   ],
   "source": [
    "print(input_1)\n",
    "pal_perm1a(input_1)"
   ]
  },
  {
   "cell_type": "code",
   "execution_count": 77,
   "metadata": {},
   "outputs": [
    {
     "name": "stdout",
     "output_type": "stream",
     "text": [
      "aab\n"
     ]
    },
    {
     "data": {
      "text/plain": [
       "True"
      ]
     },
     "execution_count": 77,
     "metadata": {},
     "output_type": "execute_result"
    }
   ],
   "source": [
    "print(input_2)\n",
    "pal_perm1a(input_2)"
   ]
  },
  {
   "cell_type": "code",
   "execution_count": 78,
   "metadata": {},
   "outputs": [
    {
     "name": "stdout",
     "output_type": "stream",
     "text": [
      "carerac\n"
     ]
    },
    {
     "data": {
      "text/plain": [
       "True"
      ]
     },
     "execution_count": 78,
     "metadata": {},
     "output_type": "execute_result"
    }
   ],
   "source": [
    "print(input_3)\n",
    "pal_perm1a(input_3)"
   ]
  },
  {
   "cell_type": "code",
   "execution_count": 79,
   "metadata": {},
   "outputs": [
    {
     "name": "stdout",
     "output_type": "stream",
     "text": [
      "abc\n"
     ]
    },
    {
     "data": {
      "text/plain": [
       "False"
      ]
     },
     "execution_count": 79,
     "metadata": {},
     "output_type": "execute_result"
    }
   ],
   "source": [
    "print(input_4)\n",
    "pal_perm1a(input_4)"
   ]
  },
  {
   "cell_type": "code",
   "execution_count": 80,
   "metadata": {},
   "outputs": [
    {
     "name": "stdout",
     "output_type": "stream",
     "text": [
      "aabc\n"
     ]
    },
    {
     "data": {
      "text/plain": [
       "False"
      ]
     },
     "execution_count": 80,
     "metadata": {},
     "output_type": "execute_result"
    }
   ],
   "source": [
    "print(input_5)\n",
    "pal_perm1a(input_5)"
   ]
  },
  {
   "cell_type": "markdown",
   "metadata": {},
   "source": [
    "**Solution 1b**: <br>\n",
    "Simplify return statement checking value of odd counter"
   ]
  },
  {
   "cell_type": "code",
   "execution_count": 96,
   "metadata": {},
   "outputs": [],
   "source": [
    "def pal_perm1b(s): \n",
    "    \n",
    "    # create dictionary char count map\n",
    "    d = {}\n",
    "    for char in s: \n",
    "        d[char] = d.get(char,0) + 1\n",
    "     \n",
    "    # Initialize odd char counter\n",
    "    odd_ct = 0\n",
    "    \n",
    "    # loop through values, check for odd char counts, add 1 if so: \n",
    "    for val in d.values():\n",
    "        if val % 2 != 0: \n",
    "            odd_ct += 1\n",
    "    \n",
    "    # note, for even length strings, we should have zero, odd counts, \\\n",
    "    # but we will only have increments of 2, therefore we can test if odd_count greater than 1 \\\n",
    "    # for both even and odd length strings\n",
    "    \n",
    "    # below statement returns True if odd_count is <= 1, otherwise returns False \n",
    "    #return True if odd_ct <=1 else False\n",
    "    return odd_ct <= 1"
   ]
  },
  {
   "cell_type": "code",
   "execution_count": 83,
   "metadata": {},
   "outputs": [
    {
     "name": "stdout",
     "output_type": "stream",
     "text": [
      "code\n"
     ]
    },
    {
     "data": {
      "text/plain": [
       "False"
      ]
     },
     "execution_count": 83,
     "metadata": {},
     "output_type": "execute_result"
    }
   ],
   "source": [
    "print(input_1)\n",
    "pal_perm1b(input_1)"
   ]
  },
  {
   "cell_type": "code",
   "execution_count": 89,
   "metadata": {},
   "outputs": [
    {
     "name": "stdout",
     "output_type": "stream",
     "text": [
      "aab\n"
     ]
    },
    {
     "data": {
      "text/plain": [
       "True"
      ]
     },
     "execution_count": 89,
     "metadata": {},
     "output_type": "execute_result"
    }
   ],
   "source": [
    "print(input_2)\n",
    "pal_perm1b(input_2)"
   ]
  },
  {
   "cell_type": "code",
   "execution_count": 90,
   "metadata": {},
   "outputs": [
    {
     "name": "stdout",
     "output_type": "stream",
     "text": [
      "carerac\n"
     ]
    },
    {
     "data": {
      "text/plain": [
       "True"
      ]
     },
     "execution_count": 90,
     "metadata": {},
     "output_type": "execute_result"
    }
   ],
   "source": [
    "print(input_3)\n",
    "pal_perm1b(input_3)"
   ]
  },
  {
   "cell_type": "code",
   "execution_count": null,
   "metadata": {},
   "outputs": [],
   "source": [
    "pal_perm1b(input_3)"
   ]
  },
  {
   "cell_type": "markdown",
   "metadata": {},
   "source": [
    "**Solution 2:** <br>\n",
    "counter + flag"
   ]
  },
  {
   "cell_type": "code",
   "execution_count": 94,
   "metadata": {},
   "outputs": [],
   "source": [
    "#import collections as c\n",
    "\n",
    "def pal_perm2(s):\n",
    "    import collections as c\n",
    "    \n",
    "    countdict = c.Counter(s)\n",
    "    count = True\n",
    "    \n",
    "    for i in countdict.values():\n",
    "        \n",
    "        # if val % 2 != 0 // if val is odd:\n",
    "        if i % 2:            \n",
    "    \n",
    "            # For even length strings, we can have no odd char counts.  \n",
    "            # By nature, an even length string can have only increments of two odd char counts, if it has any.\n",
    "            # Therefore we test for greater than 1 for even length strings.\n",
    "            # For odd length strings, we can have only 1 char with odd count.  \n",
    "            # The following if/else odd_ct flag permits only 1 odd char count, before returning False.\n",
    "            \n",
    "            if odd_ct == True:     # if True, this means we have first occurence of odd count.\n",
    "                odd_ct = False     # turn it false after first occurence\n",
    "            else:                  # if False, this is second occurence of odd count, return False\n",
    "                return False\n",
    "    return True"
   ]
  },
  {
   "cell_type": "code",
   "execution_count": 61,
   "metadata": {},
   "outputs": [
    {
     "name": "stdout",
     "output_type": "stream",
     "text": [
      "code\n"
     ]
    },
    {
     "data": {
      "text/plain": [
       "False"
      ]
     },
     "execution_count": 61,
     "metadata": {},
     "output_type": "execute_result"
    }
   ],
   "source": [
    "print(input_1)\n",
    "pal_perm2(input_1)"
   ]
  },
  {
   "cell_type": "code",
   "execution_count": 62,
   "metadata": {},
   "outputs": [
    {
     "name": "stdout",
     "output_type": "stream",
     "text": [
      "aab\n"
     ]
    },
    {
     "data": {
      "text/plain": [
       "True"
      ]
     },
     "execution_count": 62,
     "metadata": {},
     "output_type": "execute_result"
    }
   ],
   "source": [
    "print(input_2)\n",
    "pal_perm2(input_2)"
   ]
  },
  {
   "cell_type": "code",
   "execution_count": 63,
   "metadata": {},
   "outputs": [
    {
     "name": "stdout",
     "output_type": "stream",
     "text": [
      "carerac\n"
     ]
    },
    {
     "data": {
      "text/plain": [
       "True"
      ]
     },
     "execution_count": 63,
     "metadata": {},
     "output_type": "execute_result"
    }
   ],
   "source": [
    "print(input_3)\n",
    "pal_perm2(input_3)"
   ]
  },
  {
   "cell_type": "code",
   "execution_count": 88,
   "metadata": {},
   "outputs": [
    {
     "name": "stdout",
     "output_type": "stream",
     "text": [
      "2.7 µs ± 146 ns per loop (mean ± std. dev. of 7 runs, 100000 loops each)\n"
     ]
    }
   ],
   "source": [
    "%%timeit\n",
    "pal_perm2(input_3)"
   ]
  },
  {
   "cell_type": "code",
   "execution_count": 64,
   "metadata": {},
   "outputs": [
    {
     "name": "stdout",
     "output_type": "stream",
     "text": [
      "abc\n"
     ]
    },
    {
     "data": {
      "text/plain": [
       "False"
      ]
     },
     "execution_count": 64,
     "metadata": {},
     "output_type": "execute_result"
    }
   ],
   "source": [
    "print(input_4)\n",
    "pal_perm2(input_4)"
   ]
  },
  {
   "cell_type": "code",
   "execution_count": 65,
   "metadata": {},
   "outputs": [
    {
     "name": "stdout",
     "output_type": "stream",
     "text": [
      "aabc\n"
     ]
    },
    {
     "data": {
      "text/plain": [
       "False"
      ]
     },
     "execution_count": 65,
     "metadata": {},
     "output_type": "execute_result"
    }
   ],
   "source": [
    "print(input_5)\n",
    "pal_perm2(input_5)"
   ]
  },
  {
   "cell_type": "code",
   "execution_count": 87,
   "metadata": {},
   "outputs": [
    {
     "name": "stdout",
     "output_type": "stream",
     "text": [
      "2.48 µs ± 90.8 ns per loop (mean ± std. dev. of 7 runs, 100000 loops each)\n"
     ]
    }
   ],
   "source": [
    "%%timeit\n",
    "pal_perm2(input_5)"
   ]
  },
  {
   "cell_type": "markdown",
   "metadata": {},
   "source": [
    "**Solution 3:**<br>\n",
    "combination of 1 and 2, without collections import <br>\n",
    "hash table + flag"
   ]
  },
  {
   "cell_type": "code",
   "execution_count": 97,
   "metadata": {},
   "outputs": [],
   "source": [
    "def pal_perm3(s):\n",
    "    \n",
    "    d = {}\n",
    "    for char in s: \n",
    "        d[char] = d.get(char, 0) + 1\n",
    "        \n",
    "    # set odd counter = True\n",
    "    odd_ct = True\n",
    "    \n",
    "    for val in d.values():\n",
    "        \n",
    "        # if val % 2 != 0 // if val is odd:\n",
    "        if val % 2:            \n",
    "    \n",
    "            # For even length strings, we can have no odd char counts.  \n",
    "            # By nature, an even length string can have only increments of two odd char counts, if it has any.\n",
    "            # Therefore we test for greater than 1 for even length strings.\n",
    "            # For odd length strings, we can have only 1 char with odd count.  \n",
    "            # The following if/else odd_ct flag permits only 1 odd char count, before returning False.\n",
    "            \n",
    "            if odd_ct == True:     # if True, this means we have first occurence of odd count.\n",
    "                odd_ct = False     # turn it false after first occurence\n",
    "            else:                  # if False, this is second occurence of odd count, return False\n",
    "                return False\n",
    "    return True"
   ]
  },
  {
   "cell_type": "code",
   "execution_count": null,
   "metadata": {},
   "outputs": [],
   "source": []
  }
 ],
 "metadata": {
  "kernelspec": {
   "display_name": "Python 3",
   "language": "python",
   "name": "python3"
  },
  "language_info": {
   "codemirror_mode": {
    "name": "ipython",
    "version": 3
   },
   "file_extension": ".py",
   "mimetype": "text/x-python",
   "name": "python",
   "nbconvert_exporter": "python",
   "pygments_lexer": "ipython3",
   "version": "3.7.6"
  }
 },
 "nbformat": 4,
 "nbformat_minor": 2
}
