{
 "cells": [
  {
   "cell_type": "markdown",
   "metadata": {},
   "source": [
    "## 267. Palindrome Permutation II"
   ]
  },
  {
   "cell_type": "markdown",
   "metadata": {},
   "source": [
    "Given a string s, return all the palindromic permutations (without duplicates) of it. <br>\n",
    "Return an empty list if no palindromic permutation could be form."
   ]
  },
  {
   "cell_type": "markdown",
   "metadata": {},
   "source": [
    "**Example 1:**\n",
    "\n",
    "Input: \"aabb\"\n",
    "\n",
    "Output: [\"abba\", \"baab\"]\n",
    "    \n",
    "**Example 2:**\n",
    "\n",
    "Input: \"abc\"\n",
    "\n",
    "Output: []"
   ]
  },
  {
   "cell_type": "code",
   "execution_count": 16,
   "metadata": {},
   "outputs": [],
   "source": [
    "import numpy as np\n",
    "import math"
   ]
  },
  {
   "cell_type": "markdown",
   "metadata": {},
   "source": [
    "#### Solution 1:"
   ]
  },
  {
   "cell_type": "code",
   "execution_count": 8,
   "metadata": {},
   "outputs": [],
   "source": [
    "s = 'string'"
   ]
  },
  {
   "cell_type": "code",
   "execution_count": 12,
   "metadata": {},
   "outputs": [
    {
     "data": {
      "text/plain": [
       "'aabb'"
      ]
     },
     "execution_count": 12,
     "metadata": {},
     "output_type": "execute_result"
    }
   ],
   "source": [
    "a = 'a'\n",
    "val_a = 4\n",
    "b = 'b'\n",
    "val_b = 4\n",
    "bla = ''\n",
    "a*(val_a//2) + bla + b*(val_b//2)"
   ]
  },
  {
   "cell_type": "code",
   "execution_count": 20,
   "metadata": {},
   "outputs": [
    {
     "data": {
      "text/plain": [
       "3.0"
      ]
     },
     "execution_count": 20,
     "metadata": {},
     "output_type": "execute_result"
    }
   ],
   "source": [
    "np.log(8)/np.log(2)"
   ]
  },
  {
   "cell_type": "code",
   "execution_count": 29,
   "metadata": {},
   "outputs": [],
   "source": [
    "s = 'aaaabbbbccccddddffgg'\n",
    "s = s[::-1]"
   ]
  },
  {
   "cell_type": "code",
   "execution_count": 31,
   "metadata": {},
   "outputs": [],
   "source": [
    "s_dict = {}\n",
    "for char in s: \n",
    "            s_dict[char] = s.count(char)"
   ]
  },
  {
   "cell_type": "code",
   "execution_count": 32,
   "metadata": {},
   "outputs": [
    {
     "data": {
      "text/plain": [
       "dict_keys(['g', 'f', 'd', 'c', 'b', 'a'])"
      ]
     },
     "execution_count": 32,
     "metadata": {},
     "output_type": "execute_result"
    }
   ],
   "source": [
    "s_dict.keys()"
   ]
  },
  {
   "cell_type": "code",
   "execution_count": 28,
   "metadata": {},
   "outputs": [
    {
     "data": {
      "text/plain": [
       "20"
      ]
     },
     "execution_count": 28,
     "metadata": {},
     "output_type": "execute_result"
    }
   ],
   "source": [
    "sum(s_dict.values())"
   ]
  },
  {
   "cell_type": "code",
   "execution_count": 34,
   "metadata": {},
   "outputs": [
    {
     "data": {
      "text/plain": [
       "['a', 'b', 'c', 'd', 'f', 'g']"
      ]
     },
     "execution_count": 34,
     "metadata": {},
     "output_type": "execute_result"
    }
   ],
   "source": [
    "sorted(s_dict.keys())"
   ]
  },
  {
   "cell_type": "code",
   "execution_count": 36,
   "metadata": {},
   "outputs": [
    {
     "ename": "AttributeError",
     "evalue": "'dict_keys' object has no attribute 'sort'",
     "output_type": "error",
     "traceback": [
      "\u001b[0;31m---------------------------------------------------------------------------\u001b[0m",
      "\u001b[0;31mAttributeError\u001b[0m                            Traceback (most recent call last)",
      "\u001b[0;32m<ipython-input-36-1d22e82f82a3>\u001b[0m in \u001b[0;36m<module>\u001b[0;34m\u001b[0m\n\u001b[0;32m----> 1\u001b[0;31m \u001b[0ms_dict\u001b[0m\u001b[0;34m.\u001b[0m\u001b[0mkeys\u001b[0m\u001b[0;34m(\u001b[0m\u001b[0;34m)\u001b[0m\u001b[0;34m.\u001b[0m\u001b[0msort\u001b[0m\u001b[0;34m(\u001b[0m\u001b[0;34m)\u001b[0m\u001b[0;34m\u001b[0m\u001b[0;34m\u001b[0m\u001b[0m\n\u001b[0m",
      "\u001b[0;31mAttributeError\u001b[0m: 'dict_keys' object has no attribute 'sort'"
     ]
    }
   ],
   "source": []
  },
  {
   "cell_type": "code",
   "execution_count": null,
   "metadata": {},
   "outputs": [],
   "source": [
    "def pal_perm_2(s):\n",
    "    alpha = 'abcdefghijklmnopqrstuvwxyz'\n",
    "    pals = []\n",
    "    dic = {}\n",
    "    pal_dict = {}\n",
    "    pal = ''\n",
    "    \n",
    "    \n",
    "    if s == s[::-1]: \n",
    "        pals.append(s)\n",
    "    \n",
    "    # create frequency dict\n",
    "    for char in s: \n",
    "            dic[char] = dic.get(char, 0) + 1\n",
    "            \n",
    "    # check for count of odd char counts\n",
    "    odd_chars = 0\n",
    "    for key in dic.keys():\n",
    "        if dic[key] \n",
    "    \n",
    "    \n",
    "    # if string length is even, char counts must be even for palindrome\n",
    "    if len(s) % 2 == 0:\n",
    "        \n",
    "        for key,val in dic.items():\n",
    "            if val % 2 != 0:            # if any char counts are odd\n",
    "                return []                # not palindrome\n",
    "            else:\n",
    "                pal = key*(val//2) + pal + key*(val//2)  # build base palindrome\n",
    "                #pal_dict[key*(val//2)] = \n",
    "        \n",
    "        for key in dic.keys():\n",
    "            if dic[key] % 2 != 0:      # if any char counts are odd\n",
    "                return []              # not palindrome\n",
    "            else: \n",
    "                \n",
    "        \n",
    "        pals.append(pal)\n",
    "        # build out palindrome permutations\n",
    "        for i range(0,len(pal)/2):\n",
    "            \n",
    "        \n",
    "        \n",
    "        # build out palindrome permutations\n",
    "        count = 0 \n",
    "        while count < len(s_dict.keys):\n",
    "            pal = ''\n",
    "            for i, char in enumerate(sorted(s_dict.keys())): \n",
    "                pal = key*(s_dict[key]//2) + pal + key*(s_dict[key]//2)\n",
    "                pal = \n",
    "            \n",
    "        \n",
    "    # case for string length is odd\n",
    "    else:\n",
    "        # if more than one key has odd counts, not palindrome\n",
    "        odd_vals = 0\n",
    "        for val in s_dict_values():\n",
    "            if val % 2 != 0: \n",
    "                odd_vals += 1\n",
    "                if odd vals > 1: \n",
    "                    return []\n",
    "            \n",
    "        for keys,vals in s_dict.items\n",
    "                \n",
    "        "
   ]
  }
 ],
 "metadata": {
  "kernelspec": {
   "display_name": "Python 3",
   "language": "python",
   "name": "python3"
  },
  "language_info": {
   "codemirror_mode": {
    "name": "ipython",
    "version": 3
   },
   "file_extension": ".py",
   "mimetype": "text/x-python",
   "name": "python",
   "nbconvert_exporter": "python",
   "pygments_lexer": "ipython3",
   "version": "3.7.6"
  }
 },
 "nbformat": 4,
 "nbformat_minor": 2
}
