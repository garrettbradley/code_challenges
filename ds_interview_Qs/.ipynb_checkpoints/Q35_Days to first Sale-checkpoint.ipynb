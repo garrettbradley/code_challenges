{
 "cells": [
  {
   "cell_type": "markdown",
   "metadata": {},
   "source": [
    "## Q12 Days to first sale \n",
    "SQL Database Querying Percentiles Min"
   ]
  },
  {
   "cell_type": "code",
   "execution_count": null,
   "metadata": {},
   "outputs": [],
   "source": [
    "sql = \"\"\"\n",
    "SELECT name\n",
    "FROM stores\n",
    "ORDER BY name\n",
    "LIMIT 1 OFFSET 3\n",
    "\"\"\""
   ]
  },
  {
   "cell_type": "markdown",
   "metadata": {},
   "source": [
    "You’re working as an analyst for a sales organization and you’re asked to figure out how long it takes for a sales representative to make their first sale. You’re also given the following tables:\n",
    "\n",
    "Table 1: **sales_rep_info**\n",
    "\n",
    "| **columns**        | **description**                            |\n",
    "|--------------------|--------------------------------------------|\n",
    "| sales_rep_id       | unique sales rep identifier                |\n",
    "| date_hired         | hire date of employee, format 'YYYY-MM-DD' |\n",
    "| product_focus_area | types of products the rep sells            |\n",
    "| tenure             | total yrs of sales experience              |\n",
    "| level              | employee level at the company              |\n",
    "\n",
    "\n",
    "Table 2: **all_sales**\n",
    "\n",
    "| **columns**           | **description**                                            |\n",
    "|-----------------------|------------------------------------------------------------|\n",
    "| date                  | close date of sale, format 'YYYY-MM-DD'                    |\n",
    "| purchase_order_number | unique identifier for the sale                             |\n",
    "| buyer_id              | the unique identifier for buyer                            |\n",
    "| sales_rep_id          | unique sales rep identifier                                |\n",
    "| order_price_usd       | total sales price in USD                                   |\n",
    "| date_sale_initiated   | date the purchase order was initiated, format 'YYYY-MM-DD' |\n",
    "\n",
    "Write a SQL query that shows how long it takes for a sales representative to make their first sale"
   ]
  },
  {
   "cell_type": "markdown",
   "metadata": {},
   "source": [
    "**Solution 1**: "
   ]
  },
  {
   "cell_type": "code",
   "execution_count": null,
   "metadata": {},
   "outputs": [],
   "source": [
    "# Assume date as the important date for close of sale date. Could also use date sale initiated. \n",
    "# Depends on company metrics\n",
    "\n",
    "sql = \"\"\"\n",
    "SELECT \n",
    "    rep.sales_rep_id,\n",
    "    \n",
    "    min(UNIX_TIMESTAMP(STR_TO_DATE(sales.date, '%Y-%m-%d'))) - \n",
    "        UNIX_TIMESTAMP(STR_TO_DATE(rep.date_hired, '%Y-%m-%d')) / (60*60*24) as days_to_first_sale \n",
    "\n",
    "FROM sales_rep_info AS rep\n",
    "JOIN all_sales AS sales \n",
    "ON rep.sales_rep_id = sales.sales_rep_id\n",
    "GROUP BY \n",
    "    sales.sales_rep_id\n",
    "    rep.date_hired\n",
    "    sales.date\n",
    "\"\"\"\n",
    "\n",
    "pd.read_sql_query(sql, engine)"
   ]
  },
  {
   "cell_type": "code",
   "execution_count": null,
   "metadata": {},
   "outputs": [],
   "source": []
  }
 ],
 "metadata": {
  "kernelspec": {
   "display_name": "Python 3",
   "language": "python",
   "name": "python3"
  },
  "language_info": {
   "codemirror_mode": {
    "name": "ipython",
    "version": 3
   },
   "file_extension": ".py",
   "mimetype": "text/x-python",
   "name": "python",
   "nbconvert_exporter": "python",
   "pygments_lexer": "ipython3",
   "version": "3.7.5"
  }
 },
 "nbformat": 4,
 "nbformat_minor": 2
}
