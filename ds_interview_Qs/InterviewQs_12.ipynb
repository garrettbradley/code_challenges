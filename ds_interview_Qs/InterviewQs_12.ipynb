{
 "cells": [
  {
   "cell_type": "markdown",
   "metadata": {},
   "source": [
    "Question 12 - Finding the value closest to 0\n",
    "Python Data Structures Arrays\n",
    "\n",
    "Suppose you are given a list of Q 1D points. Write code to return the value in Q that is the closest to value j.\n",
    "\n",
    "Example:\n",
    "\n",
    "Q = [1, -1, -5, 2, 4, -2, 1] <br>\n",
    "j = 3\n",
    "\n",
    "#We would return two values in this case: \n",
    "#2, 4 since they are both equally close to 3"
   ]
  },
  {
   "cell_type": "code",
   "execution_count": 6,
   "metadata": {},
   "outputs": [],
   "source": [
    "Q = [1, -1, -5, 2, 4, -2, 1]\n",
    "j = 3"
   ]
  },
  {
   "cell_type": "code",
   "execution_count": 10,
   "metadata": {},
   "outputs": [],
   "source": [
    "diff = abs(Q[0] - j)  # initialize diff for first element\n",
    "#min_val = Q[0]        # initalize minimum value as first element\n",
    "\n",
    "diff_dict = {}\n",
    "diff_dict[diff] = [Q[0]]        # initialize dictionary to store mins and counts\n",
    "#min_diff = [[diff, Q[0]]]      # initialize list of lists of value - diff pairs\n",
    "\n",
    "for i, num in enumerate(Q, 1):\n",
    "    \n",
    "    tp_diff = abs(num - j)\n",
    "    \n",
    "    if tp_diff < diff: \n",
    "        diff = tp_diff\n",
    "        diff_dict[diff] = [num]  \n",
    "        \n",
    "    elif tp_diff == diff:\n",
    "        diff_dict[tp_diff].append(num)\n",
    "\n",
    "min_vals = diff_dict[min(diff_dict.keys())]\n",
    "\n",
    "return min_vals"
   ]
  },
  {
   "cell_type": "code",
   "execution_count": 11,
   "metadata": {},
   "outputs": [
    {
     "data": {
      "text/plain": [
       "[2, 4]"
      ]
     },
     "execution_count": 11,
     "metadata": {},
     "output_type": "execute_result"
    }
   ],
   "source": [
    "min_vals\n"
   ]
  },
  {
   "cell_type": "code",
   "execution_count": 2,
   "metadata": {},
   "outputs": [],
   "source": []
  }
 ],
 "metadata": {
  "kernelspec": {
   "display_name": "Python 3",
   "language": "python",
   "name": "python3"
  },
  "language_info": {
   "codemirror_mode": {
    "name": "ipython",
    "version": 3
   },
   "file_extension": ".py",
   "mimetype": "text/x-python",
   "name": "python",
   "nbconvert_exporter": "python",
   "pygments_lexer": "ipython3",
   "version": "3.7.5"
  }
 },
 "nbformat": 4,
 "nbformat_minor": 2
}
