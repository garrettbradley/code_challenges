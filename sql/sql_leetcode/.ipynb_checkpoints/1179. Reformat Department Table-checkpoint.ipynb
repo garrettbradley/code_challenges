{
 "cells": [
  {
   "cell_type": "markdown",
   "metadata": {},
   "source": [
    "## 1179. Reformat Department Table"
   ]
  },
  {
   "cell_type": "markdown",
   "metadata": {},
   "source": [
    "Easy"
   ]
  },
  {
   "cell_type": "code",
   "execution_count": 2,
   "metadata": {},
   "outputs": [
    {
     "data": {
      "text/html": [
       "<style>\n",
       "table {float:left}\n",
       "</style>\n"
      ],
      "text/plain": [
       "<IPython.core.display.HTML object>"
      ]
     },
     "metadata": {},
     "output_type": "display_data"
    }
   ],
   "source": [
    "%%html\n",
    "<style>\n",
    "table {float:left}\n",
    "</style>"
   ]
  },
  {
   "cell_type": "markdown",
   "metadata": {},
   "source": [
    "Table: `Department`"
   ]
  },
  {
   "cell_type": "markdown",
   "metadata": {},
   "source": [
    "| Column Name |   Type  |\n",
    "|:-----------:|:-------:|\n",
    "|      id     |   int   |\n",
    "|   revenue   |   int   |\n",
    "|    month    | varchar |"
   ]
  },
  {
   "cell_type": "markdown",
   "metadata": {},
   "source": [
    "(id, month) is the primary key of this table. <br>\n",
    "The table has information about the revenue of each department per month. <br>\n",
    "The month has values in [\"Jan\",\"Feb\",\"Mar\",\"Apr\",\"May\",\"Jun\",\"Jul\",\"Aug\",\"Sep\",\"Oct\",\"Nov\",\"Dec\"]."
   ]
  },
  {
   "cell_type": "markdown",
   "metadata": {},
   "source": [
    "Write an SQL query to reformat the table such that there is a department id column and a revenue column for each month.\n",
    "\n",
    "The query result format is in the following example:"
   ]
  },
  {
   "cell_type": "markdown",
   "metadata": {},
   "source": [
    "Department Table:\n",
    "\n",
    "| id | revenue | month |\n",
    "|:--:|:-------:|-------|\n",
    "|  1 |   8000  | Jan   |\n",
    "|  2 |   9000  | Jan   |\n",
    "|  3 |  10000  | Feb   |\n",
    "| 1  | 7000    | Feb   |\n",
    "| 1  | 6000    | Mar   |"
   ]
  },
  {
   "cell_type": "markdown",
   "metadata": {},
   "source": [
    "Result Table: \n",
    "    \n",
    "| id | jan_rev | feb_rev | mar_rev | ... | dec_rev |\n",
    "|:--:|:-------:|:-------:|:-------:|:---:|:-------:|\n",
    "|  1 |   8000  |   7000  |   6000  |     |   null  |\n",
    "|  2 |   9000  |   null  |   null  |     |   null  |\n",
    "|  3 |   null  |  10000  |   null  |     |   null  |"
   ]
  },
  {
   "cell_type": "markdown",
   "metadata": {},
   "source": [
    "Note that the result table has 13 columns (1 for the department id + 12 for the months)."
   ]
  },
  {
   "cell_type": "markdown",
   "metadata": {},
   "source": [
    "### Solution 1: "
   ]
  },
  {
   "cell_type": "code",
   "execution_count": null,
   "metadata": {},
   "outputs": [],
   "source": [
    "SELECT id, \n",
    "       SUM(CASE WHEN month = 'Jan' THEN revenue ELSE null END) AS 'Jan_Revenue',\n",
    "       SUM(CASE WHEN month = 'Feb' THEN revenue ELSE null END) AS 'Feb_Revenue',\n",
    "       SUM(CASE WHEN month = 'Mar' THEN revenue ELSE null END) AS 'Mar_Revenue',\n",
    "       SUM(CASE WHEN month = 'Apr' THEN revenue ELSE null END) AS 'Apr_Revenue',\n",
    "       SUM(CASE WHEN month = 'May' THEN revenue ELSE null END) AS 'May_Revenue',\n",
    "       SUM(CASE WHEN month = 'Jun' THEN revenue ELSE null END) AS 'Jun_Revenue', \n",
    "       SUM(CASE WHEN month = 'Jul' THEN revenue ELSE null END) AS 'Jul_Revenue',\n",
    "       SUM(CASE WHEN month = 'Aug' THEN revenue ELSE null END) AS 'Aug_Revenue',\n",
    "       SUM(CASE WHEN month = 'Sep' THEN revenue ELSE null END) AS 'Sep_Revenue',\n",
    "       SUM(CASE WHEN month = 'Oct' THEN revenue ELSE null END) AS 'Oct_Revenue',\n",
    "       SUM(CASE WHEN month = 'Nov' THEN revenue ELSE null END) AS 'Nov_Revenue',\n",
    "       SUM(CASE WHEN month = 'Dec' THEN revenue ELSE null END) AS 'Dec_Revenue'\n",
    "FROM Department\n",
    "Group BY id"
   ]
  },
  {
   "cell_type": "code",
   "execution_count": null,
   "metadata": {},
   "outputs": [],
   "source": []
  },
  {
   "cell_type": "markdown",
   "metadata": {},
   "source": [
    "### Solution 2:"
   ]
  },
  {
   "cell_type": "code",
   "execution_count": null,
   "metadata": {},
   "outputs": [],
   "source": [
    "SELECT DISTINCT D.id,\n",
    "    (SELECT SUM(revenue) FROM Department m WHERE m.month = 'Jan' AND D.id = m.id) AS Jan_Revenue,\n",
    "    (SELECT SUM(revenue) FROM Department m WHERE m.month = 'Feb' AND D.id = m.id) AS Feb_Revenue,\n",
    "    (SELECT SUM(revenue) FROM Department m WHERE m.month = 'Mar' AND D.id = m.id) AS Mar_Revenue,\n",
    "    (SELECT SUM(revenue) FROM Department m WHERE m.month = 'Apr' AND D.id = m.id) AS Apr_Revenue,\n",
    "    (SELECT SUM(revenue) FROM Department m WHERE m.month = 'May' AND D.id = m.id) AS May_Revenue,\n",
    "    (SELECT SUM(revenue) FROM Department m WHERE m.month = 'Jun' AND D.id = m.id) AS Jun_Revenue,\n",
    "    (SELECT SUM(revenue) FROM Department m WHERE m.month = 'Jul' AND D.id = m.id) AS Jul_Revenue,\n",
    "    (SELECT SUM(revenue) FROM Department m WHERE m.month = 'Aug' AND D.id = m.id) AS Aug_Revenue,\n",
    "    (SELECT SUM(revenue) FROM Department m WHERE m.month = 'Sep' AND D.id = m.id) AS Sep_Revenue,\n",
    "    (SELECT SUM(revenue) FROM Department m WHERE m.month = 'Oct' AND D.id = m.id) AS Oct_Revenue,\n",
    "    (SELECT SUM(revenue) FROM Department m WHERE m.month = 'Nov' AND D.id = m.id) AS Nov_Revenue,\n",
    "    (SELECT SUM(revenue) FROM Department m WHERE m.month = 'Dec' AND D.id = m.id) AS Dec_Revenue\n",
    "FROM Department D"
   ]
  },
  {
   "cell_type": "code",
   "execution_count": null,
   "metadata": {},
   "outputs": [],
   "source": []
  },
  {
   "cell_type": "markdown",
   "metadata": {},
   "source": [
    "### Solution 3:\n",
    "(MS SQL Server)"
   ]
  },
  {
   "cell_type": "code",
   "execution_count": null,
   "metadata": {},
   "outputs": [],
   "source": [
    "SELECT * \n",
    "FROM\n",
    "    (SELECT id,revenue, month+'_revenue' as rev_mth\n",
    "     FROM Department) t\n",
    "PIVOT\n",
    "(SUM(revenue) FOR rev_mth IN ([Jan_revenue],[Feb_revenue],[Mar_revenue],\n",
    "                              [Apr_revenue],[May_revenue],[Jun_revenue],\n",
    "                              [Jul_revenue],[Aug_revenue],[Sep_revenue],\n",
    "                              [Oct_revenue],[Nov_revenue],[Dec_revenue])) AS pivot_table;"
   ]
  }
 ],
 "metadata": {
  "kernelspec": {
   "display_name": "Python 3",
   "language": "python",
   "name": "python3"
  },
  "language_info": {
   "codemirror_mode": {
    "name": "ipython",
    "version": 3
   },
   "file_extension": ".py",
   "mimetype": "text/x-python",
   "name": "python",
   "nbconvert_exporter": "python",
   "pygments_lexer": "ipython3",
   "version": "3.7.5"
  }
 },
 "nbformat": 4,
 "nbformat_minor": 2
}
