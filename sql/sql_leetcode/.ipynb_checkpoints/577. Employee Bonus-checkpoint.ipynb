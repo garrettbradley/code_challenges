{
 "cells": [
  {
   "cell_type": "markdown",
   "metadata": {},
   "source": [
    "## 577. Employee Bonus"
   ]
  },
  {
   "cell_type": "markdown",
   "metadata": {},
   "source": [
    "\n",
    "Select all employee's name and bonus whose bonus is < 1000.\n",
    "\n",
    "Table:Employee\n",
    "\n",
    "+-------+--------+-----------+--------+\n",
    "| empId |  name  | supervisor| salary |\n",
    "+-------+--------+-----------+--------+\n",
    "|   1   | John   |  3        | 1000   |\n",
    "|   2   | Dan    |  3        | 2000   |\n",
    "|   3   | Brad   |  null     | 4000   |\n",
    "|   4   | Thomas |  3        | 4000   |\n",
    "+-------+--------+-----------+--------+\n",
    "empId is the primary key column for this table.\n",
    "Table: Bonus\n",
    "\n",
    "+-------+-------+\n",
    "| empId | bonus |\n",
    "+-------+-------+\n",
    "| 2     | 500   |\n",
    "| 4     | 2000  |\n",
    "+-------+-------+\n",
    "\n",
    "empId is the primary key column for this table.\n",
    "\n",
    "Example ouput:\n",
    "\n",
    "+-------+-------+\n",
    "| name  | bonus |\n",
    "+-------+-------+\n",
    "| John  | null  |\n",
    "| Dan   | 500   |\n",
    "| Brad  | null  |\n",
    "+-------+-------+"
   ]
  },
  {
   "cell_type": "markdown",
   "metadata": {},
   "source": [
    "**Solution:**"
   ]
  },
  {
   "cell_type": "markdown",
   "metadata": {},
   "source": [
    "```mysql\n",
    "\n",
    "SELECT e.name, b.bonus\n",
    "FROM employee e\n",
    "LEFT JOIN bonus b on e.empid = b.empid\n",
    "WHERE b.bonus < 1000 or b.bonus is null\n",
    "\n",
    "```"
   ]
  },
  {
   "cell_type": "code",
   "execution_count": null,
   "metadata": {},
   "outputs": [],
   "source": []
  }
 ],
 "metadata": {
  "kernelspec": {
   "display_name": "Python 3",
   "language": "python",
   "name": "python3"
  },
  "language_info": {
   "codemirror_mode": {
    "name": "ipython",
    "version": 3
   },
   "file_extension": ".py",
   "mimetype": "text/x-python",
   "name": "python",
   "nbconvert_exporter": "python",
   "pygments_lexer": "ipython3",
   "version": "3.7.6"
  }
 },
 "nbformat": 4,
 "nbformat_minor": 2
}
